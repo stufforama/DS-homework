{
 "cells": [
  {
   "cell_type": "markdown",
   "metadata": {},
   "source": [
    "# Предсказываем автора вопроса спортивного ЧГК по тексту вопроса"
   ]
  },
  {
   "cell_type": "code",
   "execution_count": 2,
   "metadata": {
    "collapsed": false
   },
   "outputs": [],
   "source": [
    "import pandas as pd\n",
    "from matplotlib import pyplot as plt\n",
    "%matplotlib inline\n",
    "import seaborn as sns\n",
    "import requests\n",
    "from multiprocessing.dummy import Pool\n",
    "from lxml.html import fromstring\n",
    "from lxml import cssselect\n",
    "import numpy as np\n"
   ]
  },
  {
   "cell_type": "markdown",
   "metadata": {},
   "source": [
    "Сгенерим по 20 адресов страниц поисковой выдачи для каждого из двух авторов, чтобы в итоге получить около тысячи вопросов для кждого."
   ]
  },
  {
   "cell_type": "code",
   "execution_count": 3,
   "metadata": {
    "collapsed": false
   },
   "outputs": [],
   "source": [
    "url_template = 'http://db.chgk.info/search/questions/author_{}/types1/Q?page={}'\n",
    "urls = []\n",
    "for author in ['mmatveev', 'akolesov']:\n",
    "    for page in range(0,20):\n",
    "        urls.append(url_template.format(author, page))\n",
    "        \n",
    "flatten = lambda l: [item for sublist in l for item in sublist]   "
   ]
  },
  {
   "cell_type": "markdown",
   "metadata": {},
   "source": [
    "Скачаем тексты вопросов и приведем в удобоваримый вид, оставив только текст вопроса (без ответа, комментариев, источника и т.д.)"
   ]
  },
  {
   "cell_type": "code",
   "execution_count": 4,
   "metadata": {
    "collapsed": false
   },
   "outputs": [],
   "source": [
    "text = ''\n",
    "for url in urls:\n",
    "    html = requests.get(url).text\n",
    "    dom = fromstring(html)\n",
    "    dom.make_links_absolute(url)\n",
    "    css_elements = flatten (dom.cssselect('.questions-results'))\n",
    "    text += \"----------\".join([t.text_content().strip() for t in css_elements])\n",
    "    \n",
    "with open('вопросы.txt', 'w') as f:\n",
    "    f.write(text)"
   ]
  },
  {
   "cell_type": "code",
   "execution_count": 5,
   "metadata": {
    "collapsed": false
   },
   "outputs": [],
   "source": [
    "text_list = [x for x in text.split('----------')]\n",
    "data = pd.Series(text_list).to_frame('Text')"
   ]
  },
  {
   "cell_type": "code",
   "execution_count": 6,
   "metadata": {
    "collapsed": false
   },
   "outputs": [],
   "source": [
    "data = data[data['Text'].str.contains('Вопрос ')]"
   ]
  },
  {
   "cell_type": "code",
   "execution_count": 7,
   "metadata": {
    "collapsed": false
   },
   "outputs": [],
   "source": [
    "data = data['Text'].str.split('Автор: ', expand = True)"
   ]
  },
  {
   "cell_type": "code",
   "execution_count": 8,
   "metadata": {
    "collapsed": false
   },
   "outputs": [],
   "source": [
    "data.columns = ['Text', 'Author']\n",
    "data.dropna(inplace=True)"
   ]
  },
  {
   "cell_type": "markdown",
   "metadata": {},
   "source": [
    "Сразу заменим наши классы на 0 и 1."
   ]
  },
  {
   "cell_type": "code",
   "execution_count": 9,
   "metadata": {
    "collapsed": false
   },
   "outputs": [],
   "source": [
    "# 0 - Матвеев\n",
    "# 1 - Колесов\n",
    "data['Author'] = data['Author'].apply(lambda x: 1 if x.startswith('Артем Колесов') else 0)"
   ]
  },
  {
   "cell_type": "code",
   "execution_count": 10,
   "metadata": {
    "collapsed": false
   },
   "outputs": [
    {
     "data": {
      "text/plain": [
       "1    960\n",
       "0    938\n",
       "Name: Author, dtype: int64"
      ]
     },
     "execution_count": 10,
     "metadata": {},
     "output_type": "execute_result"
    }
   ],
   "source": [
    "data.Author.value_counts()"
   ]
  },
  {
   "cell_type": "code",
   "execution_count": 11,
   "metadata": {
    "collapsed": false
   },
   "outputs": [],
   "source": [
    "data['Question'] = data['Text'].str.split('Ответ: ', expand = True, n = 1)[0]\n",
    "data.drop('Text', axis=1, inplace=True)\n",
    "data.reset_index(inplace=True, drop=True)"
   ]
  },
  {
   "cell_type": "code",
   "execution_count": 12,
   "metadata": {
    "collapsed": false
   },
   "outputs": [
    {
     "data": {
      "text/html": [
       "<div>\n",
       "<style>\n",
       "    .dataframe thead tr:only-child th {\n",
       "        text-align: right;\n",
       "    }\n",
       "\n",
       "    .dataframe thead th {\n",
       "        text-align: left;\n",
       "    }\n",
       "\n",
       "    .dataframe tbody tr th {\n",
       "        vertical-align: top;\n",
       "    }\n",
       "</style>\n",
       "<table border=\"1\" class=\"dataframe\">\n",
       "  <thead>\n",
       "    <tr style=\"text-align: right;\">\n",
       "      <th></th>\n",
       "      <th>Author</th>\n",
       "      <th>Question</th>\n",
       "    </tr>\n",
       "  </thead>\n",
       "  <tbody>\n",
       "    <tr>\n",
       "      <th>0</th>\n",
       "      <td>0</td>\n",
       "      <td>Вопрос посвящается клубу \"Дети Коломны\".\\n\\n  ...</td>\n",
       "    </tr>\n",
       "    <tr>\n",
       "      <th>1</th>\n",
       "      <td>0</td>\n",
       "      <td>Вопрос посвящается Антону МирошничЕнко, ветера...</td>\n",
       "    </tr>\n",
       "    <tr>\n",
       "      <th>2</th>\n",
       "      <td>0</td>\n",
       "      <td>Вопрос посвящается Наталье РыжАновой, которая ...</td>\n",
       "    </tr>\n",
       "    <tr>\n",
       "      <th>3</th>\n",
       "      <td>0</td>\n",
       "      <td>Вопрос посвящается Антону ГубАнову, астроному ...</td>\n",
       "    </tr>\n",
       "    <tr>\n",
       "      <th>4</th>\n",
       "      <td>0</td>\n",
       "      <td>Вопрос посвящается Павлу Уточкину, который люб...</td>\n",
       "    </tr>\n",
       "  </tbody>\n",
       "</table>\n",
       "</div>"
      ],
      "text/plain": [
       "   Author                                           Question\n",
       "0       0  Вопрос посвящается клубу \"Дети Коломны\".\\n\\n  ...\n",
       "1       0  Вопрос посвящается Антону МирошничЕнко, ветера...\n",
       "2       0  Вопрос посвящается Наталье РыжАновой, которая ...\n",
       "3       0  Вопрос посвящается Антону ГубАнову, астроному ...\n",
       "4       0  Вопрос посвящается Павлу Уточкину, который люб..."
      ]
     },
     "execution_count": 12,
     "metadata": {},
     "output_type": "execute_result"
    }
   ],
   "source": [
    "data['Question'] = data['Question'].str.split(': ', expand = True, n = 1)[1]\n",
    "data.head()"
   ]
  },
  {
   "cell_type": "code",
   "execution_count": 13,
   "metadata": {
    "collapsed": false
   },
   "outputs": [],
   "source": [
    "import pymorphy2\n",
    "from nltk.tokenize import word_tokenize"
   ]
  },
  {
   "cell_type": "code",
   "execution_count": 14,
   "metadata": {
    "collapsed": true
   },
   "outputs": [],
   "source": [
    "class MorphProvider:\n",
    "    def __init__(self):\n",
    "        self.cache = {}\n",
    "        self.morph = pymorphy2.MorphAnalyzer()\n",
    "    \n",
    "    def __call__(self, w):\n",
    "        w = w.lower()\n",
    "        cached = self.cache.get(w)\n",
    "        if cached:\n",
    "            return cached\n",
    "        try:\n",
    "            morphed = self.morph.parse(w)[0].normal_form\n",
    "            self.cache[w] = morphed\n",
    "            return morphed\n",
    "        except:\n",
    "            return None\n",
    "    \n",
    "    def morph_string(self, s):\n",
    "        words = word_tokenize(s)\n",
    "        return \" \".join([self.__call__(w) for w in words])"
   ]
  },
  {
   "cell_type": "code",
   "execution_count": 15,
   "metadata": {
    "collapsed": true
   },
   "outputs": [],
   "source": [
    "morph = MorphProvider()"
   ]
  },
  {
   "cell_type": "code",
   "execution_count": 16,
   "metadata": {
    "collapsed": false
   },
   "outputs": [],
   "source": [
    "from tqdm import tqdm"
   ]
  },
  {
   "cell_type": "code",
   "execution_count": 17,
   "metadata": {
    "collapsed": false
   },
   "outputs": [
    {
     "name": "stderr",
     "output_type": "stream",
     "text": [
      "100%|██████████| 1898/1898 [00:04<00:00, 441.56it/s]\n"
     ]
    }
   ],
   "source": [
    "data[\"normalized\"] = [morph.morph_string(t) for t in tqdm(data.Question)]"
   ]
  },
  {
   "cell_type": "code",
   "execution_count": 18,
   "metadata": {
    "collapsed": true
   },
   "outputs": [],
   "source": [
    "data[\"normalized_words\"] = data.normalized.apply(lambda x: ' '.join([w if w.isalpha() else 'num' for w in x.split() if w.isalpha() or w.isdigit()]))\n"
   ]
  },
  {
   "cell_type": "code",
   "execution_count": 19,
   "metadata": {
    "collapsed": true
   },
   "outputs": [],
   "source": [
    "from sklearn.feature_extraction.text import CountVectorizer"
   ]
  },
  {
   "cell_type": "code",
   "execution_count": 20,
   "metadata": {
    "collapsed": true
   },
   "outputs": [],
   "source": [
    "vectorizer = CountVectorizer(max_features=10000)"
   ]
  },
  {
   "cell_type": "code",
   "execution_count": 21,
   "metadata": {
    "collapsed": false
   },
   "outputs": [
    {
     "name": "stdout",
     "output_type": "stream",
     "text": [
      "CPU times: user 95.9 ms, sys: 28.6 ms, total: 124 ms\n",
      "Wall time: 124 ms\n"
     ]
    }
   ],
   "source": [
    "%%time\n",
    "X = vectorizer.fit_transform(data.normalized_words).toarray()"
   ]
  },
  {
   "cell_type": "code",
   "execution_count": 22,
   "metadata": {
    "collapsed": true
   },
   "outputs": [],
   "source": [
    "y = data.Author"
   ]
  },
  {
   "cell_type": "code",
   "execution_count": 23,
   "metadata": {
    "collapsed": true
   },
   "outputs": [],
   "source": [
    "from sklearn.model_selection import train_test_split"
   ]
  },
  {
   "cell_type": "code",
   "execution_count": 24,
   "metadata": {
    "collapsed": true
   },
   "outputs": [],
   "source": [
    "X_train, X_test, y_train, y_test = train_test_split(X, y, random_state=1234, test_size=0.2)"
   ]
  },
  {
   "cell_type": "code",
   "execution_count": 25,
   "metadata": {
    "collapsed": false
   },
   "outputs": [
    {
     "data": {
      "text/plain": [
       "1    775\n",
       "0    743\n",
       "Name: Author, dtype: int64"
      ]
     },
     "execution_count": 25,
     "metadata": {},
     "output_type": "execute_result"
    }
   ],
   "source": [
    "y_train.value_counts()"
   ]
  },
  {
   "cell_type": "code",
   "execution_count": 26,
   "metadata": {
    "collapsed": true
   },
   "outputs": [],
   "source": [
    "from sklearn.tree import DecisionTreeClassifier\n",
    "from sklearn.model_selection import GridSearchCV"
   ]
  },
  {
   "cell_type": "code",
   "execution_count": 27,
   "metadata": {
    "collapsed": true
   },
   "outputs": [],
   "source": [
    "depths = np.arange(12, 20, 1)\n",
    "min_samples_leafs = np.arange(1, 10, 2)\n",
    "grid = {'max_depth': depths, 'min_samples_leaf': min_samples_leafs}\n",
    "gridsearch = GridSearchCV(DecisionTreeClassifier(), grid, scoring='f1', cv=10)"
   ]
  },
  {
   "cell_type": "code",
   "execution_count": 28,
   "metadata": {
    "collapsed": false
   },
   "outputs": [
    {
     "name": "stdout",
     "output_type": "stream",
     "text": [
      "CPU times: user 4min 39s, sys: 14.2 s, total: 4min 53s\n",
      "Wall time: 5min 10s\n"
     ]
    },
    {
     "data": {
      "text/plain": [
       "GridSearchCV(cv=10, error_score='raise',\n",
       "       estimator=DecisionTreeClassifier(class_weight=None, criterion='gini', max_depth=None,\n",
       "            max_features=None, max_leaf_nodes=None,\n",
       "            min_impurity_split=1e-07, min_samples_leaf=1,\n",
       "            min_samples_split=2, min_weight_fraction_leaf=0.0,\n",
       "            presort=False, random_state=None, splitter='best'),\n",
       "       fit_params={}, iid=True, n_jobs=1,\n",
       "       param_grid={'max_depth': array([12, 13, 14, 15, 16, 17, 18, 19]), 'min_samples_leaf': array([1, 3, 5, 7, 9])},\n",
       "       pre_dispatch='2*n_jobs', refit=True, return_train_score=True,\n",
       "       scoring='f1', verbose=0)"
      ]
     },
     "execution_count": 28,
     "metadata": {},
     "output_type": "execute_result"
    }
   ],
   "source": [
    "%%time\n",
    "gridsearch.fit(X_train, y_train)"
   ]
  },
  {
   "cell_type": "code",
   "execution_count": 29,
   "metadata": {
    "collapsed": false
   },
   "outputs": [
    {
     "name": "stderr",
     "output_type": "stream",
     "text": [
      "/Users/dmitryfilipsky/anaconda/lib/python3.6/site-packages/sklearn/model_selection/_search.py:667: DeprecationWarning: The grid_scores_ attribute was deprecated in version 0.18 in favor of the more elaborate cv_results_ attribute. The grid_scores_ attribute will not be available from 0.20\n",
      "  DeprecationWarning)\n"
     ]
    },
    {
     "data": {
      "text/plain": [
       "[mean: 0.74460, std: 0.02965, params: {'max_depth': 12, 'min_samples_leaf': 1},\n",
       " mean: 0.73758, std: 0.03280, params: {'max_depth': 15, 'min_samples_leaf': 1},\n",
       " mean: 0.73643, std: 0.03517, params: {'max_depth': 17, 'min_samples_leaf': 1},\n",
       " mean: 0.73613, std: 0.02648, params: {'max_depth': 19, 'min_samples_leaf': 1},\n",
       " mean: 0.73413, std: 0.02591, params: {'max_depth': 13, 'min_samples_leaf': 1},\n",
       " mean: 0.73401, std: 0.03161, params: {'max_depth': 14, 'min_samples_leaf': 1},\n",
       " mean: 0.73386, std: 0.02579, params: {'max_depth': 13, 'min_samples_leaf': 3},\n",
       " mean: 0.72437, std: 0.03219, params: {'max_depth': 16, 'min_samples_leaf': 1},\n",
       " mean: 0.72369, std: 0.02719, params: {'max_depth': 12, 'min_samples_leaf': 3},\n",
       " mean: 0.72343, std: 0.03757, params: {'max_depth': 18, 'min_samples_leaf': 1}]"
      ]
     },
     "execution_count": 29,
     "metadata": {},
     "output_type": "execute_result"
    }
   ],
   "source": [
    "sorted(gridsearch.grid_scores_, key = lambda x: -x.mean_validation_score)[:10]"
   ]
  },
  {
   "cell_type": "code",
   "execution_count": 30,
   "metadata": {
    "collapsed": false
   },
   "outputs": [
    {
     "name": "stderr",
     "output_type": "stream",
     "text": [
      "/Users/dmitryfilipsky/anaconda/lib/python3.6/site-packages/sklearn/model_selection/_search.py:667: DeprecationWarning: The grid_scores_ attribute was deprecated in version 0.18 in favor of the more elaborate cv_results_ attribute. The grid_scores_ attribute will not be available from 0.20\n",
      "  DeprecationWarning)\n"
     ]
    },
    {
     "data": {
      "text/plain": [
       "<matplotlib.collections.PathCollection at 0x121d2aa58>"
      ]
     },
     "execution_count": 30,
     "metadata": {},
     "output_type": "execute_result"
    },
    {
     "data": {
      "image/png": "[encoded data removed]",
      "text/plain": [
       "<matplotlib.figure.Figure at 0x121b6c588>"
      ]
     },
     "metadata": {},
     "output_type": "display_data"
    }
   ],
   "source": [
    "scores = [x.mean_validation_score for x in gridsearch.grid_scores_ if x.parameters['min_samples_leaf']==1]\n",
    "plt.plot(depths, scores)\n",
    "plt.scatter(depths, scores)\n",
    "best_point = np.argmax(scores)\n",
    "plt.scatter(depths[best_point], scores[best_point], c='g', s=100)"
   ]
  },
  {
   "cell_type": "code",
   "execution_count": 31,
   "metadata": {
    "collapsed": false
   },
   "outputs": [],
   "source": [
    "clf = DecisionTreeClassifier(max_depth=12, min_samples_leaf=1)"
   ]
  },
  {
   "cell_type": "code",
   "execution_count": 32,
   "metadata": {
    "collapsed": false
   },
   "outputs": [
    {
     "name": "stdout",
     "output_type": "stream",
     "text": [
      "CPU times: user 799 ms, sys: 13.9 ms, total: 813 ms\n",
      "Wall time: 811 ms\n"
     ]
    },
    {
     "data": {
      "text/plain": [
       "DecisionTreeClassifier(class_weight=None, criterion='gini', max_depth=12,\n",
       "            max_features=None, max_leaf_nodes=None,\n",
       "            min_impurity_split=1e-07, min_samples_leaf=1,\n",
       "            min_samples_split=2, min_weight_fraction_leaf=0.0,\n",
       "            presort=False, random_state=None, splitter='best')"
      ]
     },
     "execution_count": 32,
     "metadata": {},
     "output_type": "execute_result"
    }
   ],
   "source": [
    "%%time\n",
    "clf.fit(X_train, y_train)"
   ]
  },
  {
   "cell_type": "code",
   "execution_count": 33,
   "metadata": {
    "collapsed": true
   },
   "outputs": [],
   "source": [
    "y_pred = clf.predict(X_test)\n",
    "y_pred_proba = clf.predict_proba(X_test)"
   ]
  },
  {
   "cell_type": "code",
   "execution_count": 34,
   "metadata": {
    "collapsed": true
   },
   "outputs": [],
   "source": [
    "from sklearn import metrics"
   ]
  },
  {
   "cell_type": "code",
   "execution_count": 35,
   "metadata": {
    "collapsed": false
   },
   "outputs": [
    {
     "data": {
      "text/plain": [
       "0.72894736842105268"
      ]
     },
     "execution_count": 35,
     "metadata": {},
     "output_type": "execute_result"
    }
   ],
   "source": [
    "metrics.accuracy_score(y_test, y_pred)"
   ]
  },
  {
   "cell_type": "code",
   "execution_count": 36,
   "metadata": {
    "collapsed": false
   },
   "outputs": [
    {
     "data": {
      "text/plain": [
       "0.73837209302325579"
      ]
     },
     "execution_count": 36,
     "metadata": {},
     "output_type": "execute_result"
    }
   ],
   "source": [
    "metrics.precision_score(y_test, y_pred)"
   ]
  },
  {
   "cell_type": "code",
   "execution_count": 37,
   "metadata": {
    "collapsed": false
   },
   "outputs": [
    {
     "data": {
      "text/plain": [
       "0.68648648648648647"
      ]
     },
     "execution_count": 37,
     "metadata": {},
     "output_type": "execute_result"
    }
   ],
   "source": [
    "metrics.recall_score(y_test, y_pred)"
   ]
  },
  {
   "cell_type": "code",
   "execution_count": 38,
   "metadata": {
    "collapsed": false
   },
   "outputs": [
    {
     "data": {
      "text/plain": [
       "0.71148459383753493"
      ]
     },
     "execution_count": 38,
     "metadata": {},
     "output_type": "execute_result"
    }
   ],
   "source": [
    "metrics.f1_score(y_test, y_pred)"
   ]
  },
  {
   "cell_type": "code",
   "execution_count": 39,
   "metadata": {
    "collapsed": false
   },
   "outputs": [
    {
     "data": {
      "text/plain": [
       "0.73061677061677066"
      ]
     },
     "execution_count": 39,
     "metadata": {},
     "output_type": "execute_result"
    }
   ],
   "source": [
    "metrics.roc_auc_score(y_test, y_pred_proba[:,1])"
   ]
  },
  {
   "cell_type": "code",
   "execution_count": 40,
   "metadata": {
    "collapsed": true
   },
   "outputs": [],
   "source": [
    "fpr, tpr, thres = metrics.roc_curve( y_test, y_pred_proba[:, 1] )"
   ]
  },
  {
   "cell_type": "code",
   "execution_count": 41,
   "metadata": {
    "collapsed": false
   },
   "outputs": [
    {
     "data": {
      "text/plain": [
       "[<matplotlib.lines.Line2D at 0x14de5d3c8>]"
      ]
     },
     "execution_count": 41,
     "metadata": {},
     "output_type": "execute_result"
    },
    {
     "data": {
      "image/png": "[encoded data removed]",
      "text/plain": [
       "<matplotlib.figure.Figure at 0x121bf0978>"
      ]
     },
     "metadata": {},
     "output_type": "display_data"
    }
   ],
   "source": [
    "plt.plot( fpr, tpr )"
   ]
  },
  {
   "cell_type": "markdown",
   "metadata": {},
   "source": [
    "Качество не фатастическое, но хотя бы лучше константного предсказания :)"
   ]
  },
  {
   "cell_type": "code",
   "execution_count": 42,
   "metadata": {
    "collapsed": true
   },
   "outputs": [],
   "source": [
    "from sklearn.tree import export_graphviz\n",
    "\n",
    "def get_tree_dot_view(clf, feature_names=None, class_names=None):\n",
    "    print(export_graphviz(clf, out_file=None, filled=True, feature_names=feature_names, class_names=class_names))"
   ]
  },
  {
   "cell_type": "code",
   "execution_count": 43,
   "metadata": {
    "collapsed": false
   },
   "outputs": [
    {
     "name": "stdout",
     "output_type": "stream",
     "text": [
      "digraph Tree {\n",
      "node [shape=box, style=\"filled\", color=\"black\"] ;\n",
      "0 [label=\"num <= 0.5\\ngini = 0.4998\\nsamples = 1518\\nvalue = [743, 775]\\nclass = Колесов\", fillcolor=\"#399de50b\"] ;\n",
      "1 [label=\"это <= 0.5\\ngini = 0.4677\\nsamples = 917\\nvalue = [575, 342]\\nclass = Матвеев\", fillcolor=\"#e5813967\"] ;\n",
      "0 -> 1 [labeldistance=2.5, labelangle=45, headlabel=\"True\"] ;\n",
      "2 [label=\"что <= 0.5\\ngini = 0.4931\\nsamples = 639\\nvalue = [357, 282]\\nclass = Матвеев\", fillcolor=\"#e5813936\"] ;\n",
      "1 -> 2 ;\n",
      "3 [label=\"не <= 0.5\\ngini = 0.4994\\nsamples = 416\\nvalue = [201, 215]\\nclass = Колесов\", fillcolor=\"#399de511\"] ;\n",
      "2 -> 3 ;\n",
      "4 [label=\"известный <= 0.5\\ngini = 0.4929\\nsamples = 352\\nvalue = [155, 197]\\nclass = Колесов\", fillcolor=\"#399de536\"] ;\n",
      "3 -> 4 ;\n",
      "5 [label=\"назвать <= 0.5\\ngini = 0.4829\\nsamples = 324\\nvalue = [132, 192]\\nclass = Колесов\", fillcolor=\"#399de550\"] ;\n",
      "4 -> 5 ;\n",
      "6 [label=\"два <= 0.5\\ngini = 0.4999\\nsamples = 170\\nvalue = [86, 84]\\nclass = Матвеев\", fillcolor=\"#e5813906\"] ;\n",
      "5 -> 6 ;\n",
      "7 [label=\"восстановить <= 0.5\\ngini = 0.4843\\nsamples = 124\\nvalue = [73, 51]\\nclass = Матвеев\", fillcolor=\"#e581394d\"] ;\n",
      "6 -> 7 ;\n",
      "8 [label=\"соотечественник <= 0.5\\ngini = 0.4693\\nsamples = 117\\nvalue = [73, 44]\\nclass = Матвеев\", fillcolor=\"#e5813965\"] ;\n",
      "7 -> 8 ;\n",
      "9 [label=\"цитата <= 0.5\\ngini = 0.4606\\nsamples = 114\\nvalue = [73, 41]\\nclass = Матвеев\", fillcolor=\"#e5813970\"] ;\n",
      "8 -> 9 ;\n",
      "10 [label=\"быть <= 0.5\\ngini = 0.4727\\nsamples = 107\\nvalue = [66, 41]\\nclass = Матвеев\", fillcolor=\"#e5813961\"] ;\n",
      "9 -> 10 ;\n",
      "11 [label=\"весь <= 0.5\\ngini = 0.4893\\nsamples = 89\\nvalue = [51, 38]\\nclass = Матвеев\", fillcolor=\"#e5813941\"] ;\n",
      "10 -> 11 ;\n",
      "12 [label=\"gini = 0.4955\\nsamples = 84\\nvalue = [46, 38]\\nclass = Матвеев\", fillcolor=\"#e581392c\"] ;\n",
      "11 -> 12 ;\n",
      "13 [label=\"gini = 0.0\\nsamples = 5\\nvalue = [5, 0]\\nclass = Матвеев\", fillcolor=\"#e58139ff\"] ;\n",
      "11 -> 13 ;\n",
      "14 [label=\"посвятить <= 0.5\\ngini = 0.2778\\nsamples = 18\\nvalue = [15, 3]\\nclass = Матвеев\", fillcolor=\"#e58139cc\"] ;\n",
      "10 -> 14 ;\n",
      "15 [label=\"gini = 0.1172\\nsamples = 16\\nvalue = [15, 1]\\nclass = Матвеев\", fillcolor=\"#e58139ee\"] ;\n",
      "14 -> 15 ;\n",
      "16 [label=\"gini = 0.0\\nsamples = 2\\nvalue = [0, 2]\\nclass = Колесов\", fillcolor=\"#399de5ff\"] ;\n",
      "14 -> 16 ;\n",
      "17 [label=\"gini = 0.0\\nsamples = 7\\nvalue = [7, 0]\\nclass = Матвеев\", fillcolor=\"#e58139ff\"] ;\n",
      "9 -> 17 ;\n",
      "18 [label=\"gini = 0.0\\nsamples = 3\\nvalue = [0, 3]\\nclass = Колесов\", fillcolor=\"#399de5ff\"] ;\n",
      "8 -> 18 ;\n",
      "19 [label=\"gini = 0.0\\nsamples = 7\\nvalue = [0, 7]\\nclass = Колесов\", fillcolor=\"#399de5ff\"] ;\n",
      "7 -> 19 ;\n",
      "20 [label=\"словосочетание <= 0.5\\ngini = 0.4055\\nsamples = 46\\nvalue = [13, 33]\\nclass = Колесов\", fillcolor=\"#399de59b\"] ;\n",
      "6 -> 20 ;\n",
      "21 [label=\"слово <= 2.5\\ngini = 0.3569\\nsamples = 43\\nvalue = [10, 33]\\nclass = Колесов\", fillcolor=\"#399de5b2\"] ;\n",
      "20 -> 21 ;\n",
      "22 [label=\"газета <= 0.5\\ngini = 0.3141\\nsamples = 41\\nvalue = [8, 33]\\nclass = Колесов\", fillcolor=\"#399de5c1\"] ;\n",
      "21 -> 22 ;\n",
      "23 [label=\"раздолбай <= 0.5\\ngini = 0.2659\\nsamples = 38\\nvalue = [6, 32]\\nclass = Колесов\", fillcolor=\"#399de5cf\"] ;\n",
      "22 -> 23 ;\n",
      "24 [label=\"ка <= 1.0\\ngini = 0.2337\\nsamples = 37\\nvalue = [5, 32]\\nclass = Колесов\", fillcolor=\"#399de5d7\"] ;\n",
      "23 -> 24 ;\n",
      "25 [label=\"gini = 0.1975\\nsamples = 36\\nvalue = [4, 32]\\nclass = Колесов\", fillcolor=\"#399de5df\"] ;\n",
      "24 -> 25 ;\n",
      "26 [label=\"gini = 0.0\\nsamples = 1\\nvalue = [1, 0]\\nclass = Матвеев\", fillcolor=\"#e58139ff\"] ;\n",
      "24 -> 26 ;\n",
      "27 [label=\"gini = 0.0\\nsamples = 1\\nvalue = [1, 0]\\nclass = Матвеев\", fillcolor=\"#e58139ff\"] ;\n",
      "23 -> 27 ;\n",
      "28 [label=\"тень <= 1.0\\ngini = 0.4444\\nsamples = 3\\nvalue = [2, 1]\\nclass = Матвеев\", fillcolor=\"#e581397f\"] ;\n",
      "22 -> 28 ;\n",
      "29 [label=\"gini = 0.0\\nsamples = 2\\nvalue = [2, 0]\\nclass = Матвеев\", fillcolor=\"#e58139ff\"] ;\n",
      "28 -> 29 ;\n",
      "30 [label=\"gini = 0.0\\nsamples = 1\\nvalue = [0, 1]\\nclass = Колесов\", fillcolor=\"#399de5ff\"] ;\n",
      "28 -> 30 ;\n",
      "31 [label=\"gini = 0.0\\nsamples = 2\\nvalue = [2, 0]\\nclass = Матвеев\", fillcolor=\"#e58139ff\"] ;\n",
      "21 -> 31 ;\n",
      "32 [label=\"gini = 0.0\\nsamples = 3\\nvalue = [3, 0]\\nclass = Матвеев\", fillcolor=\"#e58139ff\"] ;\n",
      "20 -> 32 ;\n",
      "33 [label=\"кто <= 0.5\\ngini = 0.419\\nsamples = 154\\nvalue = [46, 108]\\nclass = Колесов\", fillcolor=\"#399de592\"] ;\n",
      "5 -> 33 ;\n",
      "34 [label=\"использовать <= 0.5\\ngini = 0.4032\\nsamples = 150\\nvalue = [42, 108]\\nclass = Колесов\", fillcolor=\"#399de59c\"] ;\n",
      "33 -> 34 ;\n",
      "35 [label=\"тимур <= 0.5\\ngini = 0.3818\\nsamples = 144\\nvalue = [37, 107]\\nclass = Колесов\", fillcolor=\"#399de5a7\"] ;\n",
      "34 -> 35 ;\n",
      "36 [label=\"говорить <= 0.5\\ngini = 0.366\\nsamples = 141\\nvalue = [34, 107]\\nclass = Колесов\", fillcolor=\"#399de5ae\"] ;\n",
      "35 -> 36 ;\n",
      "37 [label=\"мир <= 0.5\\ngini = 0.3484\\nsamples = 138\\nvalue = [31, 107]\\nclass = Колесов\", fillcolor=\"#399de5b5\"] ;\n",
      "36 -> 37 ;\n",
      "38 [label=\"как <= 0.5\\ngini = 0.3182\\nsamples = 131\\nvalue = [26, 105]\\nclass = Колесов\", fillcolor=\"#399de5c0\"] ;\n",
      "37 -> 38 ;\n",
      "39 [label=\"gini = 0.272\\nsamples = 117\\nvalue = [19, 98]\\nclass = Колесов\", fillcolor=\"#399de5ce\"] ;\n",
      "38 -> 39 ;\n",
      "40 [label=\"gini = 0.5\\nsamples = 14\\nvalue = [7, 7]\\nclass = Матвеев\", fillcolor=\"#e5813900\"] ;\n",
      "38 -> 40 ;\n",
      "41 [label=\"броненосный <= 0.5\\ngini = 0.4082\\nsamples = 7\\nvalue = [5, 2]\\nclass = Матвеев\", fillcolor=\"#e5813999\"] ;\n",
      "37 -> 41 ;\n",
      "42 [label=\"gini = 0.2778\\nsamples = 6\\nvalue = [5, 1]\\nclass = Матвеев\", fillcolor=\"#e58139cc\"] ;\n",
      "41 -> 42 ;\n",
      "43 [label=\"gini = 0.0\\nsamples = 1\\nvalue = [0, 1]\\nclass = Колесов\", fillcolor=\"#399de5ff\"] ;\n",
      "41 -> 43 ;\n",
      "44 [label=\"gini = 0.0\\nsamples = 3\\nvalue = [3, 0]\\nclass = Матвеев\", fillcolor=\"#e58139ff\"] ;\n",
      "36 -> 44 ;\n",
      "45 [label=\"gini = 0.0\\nsamples = 3\\nvalue = [3, 0]\\nclass = Матвеев\", fillcolor=\"#e58139ff\"] ;\n",
      "35 -> 45 ;\n",
      "46 [label=\"мода <= 0.5\\ngini = 0.2778\\nsamples = 6\\nvalue = [5, 1]\\nclass = Матвеев\", fillcolor=\"#e58139cc\"] ;\n",
      "34 -> 46 ;\n",
      "47 [label=\"gini = 0.0\\nsamples = 5\\nvalue = [5, 0]\\nclass = Матвеев\", fillcolor=\"#e58139ff\"] ;\n",
      "46 -> 47 ;\n",
      "48 [label=\"gini = 0.0\\nsamples = 1\\nvalue = [0, 1]\\nclass = Колесов\", fillcolor=\"#399de5ff\"] ;\n",
      "46 -> 48 ;\n",
      "49 [label=\"gini = 0.0\\nsamples = 4\\nvalue = [4, 0]\\nclass = Матвеев\", fillcolor=\"#e58139ff\"] ;\n",
      "33 -> 49 ;\n",
      "50 [label=\"автор <= 0.5\\ngini = 0.2934\\nsamples = 28\\nvalue = [23, 5]\\nclass = Матвеев\", fillcolor=\"#e58139c8\"] ;\n",
      "4 -> 50 ;\n",
      "51 [label=\"хью <= 0.5\\ngini = 0.2041\\nsamples = 26\\nvalue = [23, 3]\\nclass = Матвеев\", fillcolor=\"#e58139de\"] ;\n",
      "50 -> 51 ;\n",
      "52 [label=\"храм <= 0.5\\ngini = 0.1472\\nsamples = 25\\nvalue = [23, 2]\\nclass = Матвеев\", fillcolor=\"#e58139e9\"] ;\n",
      "51 -> 52 ;\n",
      "53 [label=\"социальный <= 0.5\\ngini = 0.0799\\nsamples = 24\\nvalue = [23, 1]\\nclass = Матвеев\", fillcolor=\"#e58139f4\"] ;\n",
      "52 -> 53 ;\n",
      "54 [label=\"gini = 0.0\\nsamples = 23\\nvalue = [23, 0]\\nclass = Матвеев\", fillcolor=\"#e58139ff\"] ;\n",
      "53 -> 54 ;\n",
      "55 [label=\"gini = 0.0\\nsamples = 1\\nvalue = [0, 1]\\nclass = Колесов\", fillcolor=\"#399de5ff\"] ;\n",
      "53 -> 55 ;\n",
      "56 [label=\"gini = 0.0\\nsamples = 1\\nvalue = [0, 1]\\nclass = Колесов\", fillcolor=\"#399de5ff\"] ;\n",
      "52 -> 56 ;\n",
      "57 [label=\"gini = 0.0\\nsamples = 1\\nvalue = [0, 1]\\nclass = Колесов\", fillcolor=\"#399de5ff\"] ;\n",
      "51 -> 57 ;\n",
      "58 [label=\"gini = 0.0\\nsamples = 2\\nvalue = [0, 2]\\nclass = Колесов\", fillcolor=\"#399de5ff\"] ;\n",
      "50 -> 58 ;\n",
      "59 [label=\"на <= 1.5\\ngini = 0.4043\\nsamples = 64\\nvalue = [46, 18]\\nclass = Матвеев\", fillcolor=\"#e581399b\"] ;\n",
      "3 -> 59 ;\n",
      "60 [label=\"принять <= 0.5\\ngini = 0.3578\\nsamples = 60\\nvalue = [46, 14]\\nclass = Матвеев\", fillcolor=\"#e58139b1\"] ;\n",
      "59 -> 60 ;\n",
      "61 [label=\"автор <= 0.5\\ngini = 0.3115\\nsamples = 57\\nvalue = [46, 11]\\nclass = Матвеев\", fillcolor=\"#e58139c2\"] ;\n",
      "60 -> 61 ;\n",
      "62 [label=\"игнорировать <= 0.5\\ngini = 0.2524\\nsamples = 54\\nvalue = [46, 8]\\nclass = Матвеев\", fillcolor=\"#e58139d3\"] ;\n",
      "61 -> 62 ;\n",
      "63 [label=\"марка <= 0.5\\ngini = 0.2041\\nsamples = 52\\nvalue = [46, 6]\\nclass = Матвеев\", fillcolor=\"#e58139de\"] ;\n",
      "62 -> 63 ;\n",
      "64 [label=\"выпустить <= 0.5\\ngini = 0.1472\\nsamples = 50\\nvalue = [46, 4]\\nclass = Матвеев\", fillcolor=\"#e58139e9\"] ;\n",
      "63 -> 64 ;\n",
      "65 [label=\"убийство <= 0.5\\ngini = 0.0799\\nsamples = 48\\nvalue = [46, 2]\\nclass = Матвеев\", fillcolor=\"#e58139f4\"] ;\n",
      "64 -> 65 ;\n",
      "66 [label=\"да <= 0.5\\ngini = 0.0416\\nsamples = 47\\nvalue = [46, 1]\\nclass = Матвеев\", fillcolor=\"#e58139f9\"] ;\n",
      "65 -> 66 ;\n",
      "67 [label=\"gini = 0.0\\nsamples = 46\\nvalue = [46, 0]\\nclass = Матвеев\", fillcolor=\"#e58139ff\"] ;\n",
      "66 -> 67 ;\n",
      "68 [label=\"gini = 0.0\\nsamples = 1\\nvalue = [0, 1]\\nclass = Колесов\", fillcolor=\"#399de5ff\"] ;\n",
      "66 -> 68 ;\n",
      "69 [label=\"gini = 0.0\\nsamples = 1\\nvalue = [0, 1]\\nclass = Колесов\", fillcolor=\"#399de5ff\"] ;\n",
      "65 -> 69 ;\n",
      "70 [label=\"gini = 0.0\\nsamples = 2\\nvalue = [0, 2]\\nclass = Колесов\", fillcolor=\"#399de5ff\"] ;\n",
      "64 -> 70 ;\n",
      "71 [label=\"gini = 0.0\\nsamples = 2\\nvalue = [0, 2]\\nclass = Колесов\", fillcolor=\"#399de5ff\"] ;\n",
      "63 -> 71 ;\n",
      "72 [label=\"gini = 0.0\\nsamples = 2\\nvalue = [0, 2]\\nclass = Колесов\", fillcolor=\"#399de5ff\"] ;\n",
      "62 -> 72 ;\n",
      "73 [label=\"gini = 0.0\\nsamples = 3\\nvalue = [0, 3]\\nclass = Колесов\", fillcolor=\"#399de5ff\"] ;\n",
      "61 -> 73 ;\n",
      "74 [label=\"gini = 0.0\\nsamples = 3\\nvalue = [0, 3]\\nclass = Колесов\", fillcolor=\"#399de5ff\"] ;\n",
      "60 -> 74 ;\n",
      "75 [label=\"gini = 0.0\\nsamples = 4\\nvalue = [0, 4]\\nclass = Колесов\", fillcolor=\"#399de5ff\"] ;\n",
      "59 -> 75 ;\n",
      "76 [label=\"надеяться <= 0.5\\ngini = 0.4204\\nsamples = 223\\nvalue = [156, 67]\\nclass = Матвеев\", fillcolor=\"#e5813991\"] ;\n",
      "2 -> 76 ;\n",
      "77 [label=\"герой <= 0.5\\ngini = 0.4098\\nsamples = 219\\nvalue = [156, 63]\\nclass = Матвеев\", fillcolor=\"#e5813998\"] ;\n",
      "76 -> 77 ;\n",
      "78 [label=\"автор <= 0.5\\ngini = 0.3963\\nsamples = 213\\nvalue = [155, 58]\\nclass = Матвеев\", fillcolor=\"#e58139a0\"] ;\n",
      "77 -> 78 ;\n",
      "79 [label=\"перевод <= 0.5\\ngini = 0.3671\\nsamples = 194\\nvalue = [147, 47]\\nclass = Матвеев\", fillcolor=\"#e58139ad\"] ;\n",
      "78 -> 79 ;\n",
      "80 [label=\"колесов <= 0.5\\ngini = 0.3546\\nsamples = 191\\nvalue = [147, 44]\\nclass = Матвеев\", fillcolor=\"#e58139b3\"] ;\n",
      "79 -> 80 ;\n",
      "81 [label=\"находиться <= 0.5\\ngini = 0.3457\\nsamples = 189\\nvalue = [147, 42]\\nclass = Матвеев\", fillcolor=\"#e58139b6\"] ;\n",
      "80 -> 81 ;\n",
      "82 [label=\"мировой <= 0.5\\ngini = 0.3291\\nsamples = 183\\nvalue = [145, 38]\\nclass = Матвеев\", fillcolor=\"#e58139bc\"] ;\n",
      "81 -> 82 ;\n",
      "83 [label=\"салим <= 0.5\\ngini = 0.3187\\nsamples = 181\\nvalue = [145, 36]\\nclass = Матвеев\", fillcolor=\"#e58139c0\"] ;\n",
      "82 -> 83 ;\n",
      "84 [label=\"говориться <= 0.5\\ngini = 0.3077\\nsamples = 179\\nvalue = [145, 34]\\nclass = Матвеев\", fillcolor=\"#e58139c3\"] ;\n",
      "83 -> 84 ;\n",
      "85 [label=\"gini = 0.2962\\nsamples = 177\\nvalue = [145, 32]\\nclass = Матвеев\", fillcolor=\"#e58139c7\"] ;\n",
      "84 -> 85 ;\n",
      "86 [label=\"gini = 0.0\\nsamples = 2\\nvalue = [0, 2]\\nclass = Колесов\", fillcolor=\"#399de5ff\"] ;\n",
      "84 -> 86 ;\n",
      "87 [label=\"gini = 0.0\\nsamples = 2\\nvalue = [0, 2]\\nclass = Колесов\", fillcolor=\"#399de5ff\"] ;\n",
      "83 -> 87 ;\n",
      "88 [label=\"gini = 0.0\\nsamples = 2\\nvalue = [0, 2]\\nclass = Колесов\", fillcolor=\"#399de5ff\"] ;\n",
      "82 -> 88 ;\n",
      "89 [label=\"вопрос <= 0.5\\ngini = 0.4444\\nsamples = 6\\nvalue = [2, 4]\\nclass = Колесов\", fillcolor=\"#399de57f\"] ;\n",
      "81 -> 89 ;\n",
      "90 [label=\"gini = 0.0\\nsamples = 4\\nvalue = [0, 4]\\nclass = Колесов\", fillcolor=\"#399de5ff\"] ;\n",
      "89 -> 90 ;\n",
      "91 [label=\"gini = 0.0\\nsamples = 2\\nvalue = [2, 0]\\nclass = Матвеев\", fillcolor=\"#e58139ff\"] ;\n",
      "89 -> 91 ;\n",
      "92 [label=\"gini = 0.0\\nsamples = 2\\nvalue = [0, 2]\\nclass = Колесов\", fillcolor=\"#399de5ff\"] ;\n",
      "80 -> 92 ;\n",
      "93 [label=\"gini = 0.0\\nsamples = 3\\nvalue = [0, 3]\\nclass = Колесов\", fillcolor=\"#399de5ff\"] ;\n",
      "79 -> 93 ;\n",
      "94 [label=\"слово <= 1.5\\ngini = 0.4875\\nsamples = 19\\nvalue = [8, 11]\\nclass = Колесов\", fillcolor=\"#399de546\"] ;\n",
      "78 -> 94 ;\n",
      "95 [label=\"не <= 0.5\\ngini = 0.3911\\nsamples = 15\\nvalue = [4, 11]\\nclass = Колесов\", fillcolor=\"#399de5a2\"] ;\n",
      "94 -> 95 ;\n",
      "96 [label=\"написать <= 0.5\\ngini = 0.2604\\nsamples = 13\\nvalue = [2, 11]\\nclass = Колесов\", fillcolor=\"#399de5d1\"] ;\n",
      "95 -> 96 ;\n",
      "97 [label=\"составлять <= 0.5\\ngini = 0.1528\\nsamples = 12\\nvalue = [1, 11]\\nclass = Колесов\", fillcolor=\"#399de5e8\"] ;\n",
      "96 -> 97 ;\n",
      "98 [label=\"gini = 0.0\\nsamples = 11\\nvalue = [0, 11]\\nclass = Колесов\", fillcolor=\"#399de5ff\"] ;\n",
      "97 -> 98 ;\n",
      "99 [label=\"gini = 0.0\\nsamples = 1\\nvalue = [1, 0]\\nclass = Матвеев\", fillcolor=\"#e58139ff\"] ;\n",
      "97 -> 99 ;\n",
      "100 [label=\"gini = 0.0\\nsamples = 1\\nvalue = [1, 0]\\nclass = Матвеев\", fillcolor=\"#e58139ff\"] ;\n",
      "96 -> 100 ;\n",
      "101 [label=\"gini = 0.0\\nsamples = 2\\nvalue = [2, 0]\\nclass = Матвеев\", fillcolor=\"#e58139ff\"] ;\n",
      "95 -> 101 ;\n",
      "102 [label=\"gini = 0.0\\nsamples = 4\\nvalue = [4, 0]\\nclass = Матвеев\", fillcolor=\"#e58139ff\"] ;\n",
      "94 -> 102 ;\n",
      "103 [label=\"приходить <= 0.5\\ngini = 0.2778\\nsamples = 6\\nvalue = [1, 5]\\nclass = Колесов\", fillcolor=\"#399de5cc\"] ;\n",
      "77 -> 103 ;\n",
      "104 [label=\"gini = 0.0\\nsamples = 5\\nvalue = [0, 5]\\nclass = Колесов\", fillcolor=\"#399de5ff\"] ;\n",
      "103 -> 104 ;\n",
      "105 [label=\"gini = 0.0\\nsamples = 1\\nvalue = [1, 0]\\nclass = Матвеев\", fillcolor=\"#e58139ff\"] ;\n",
      "103 -> 105 ;\n",
      "106 [label=\"gini = 0.0\\nsamples = 4\\nvalue = [0, 4]\\nclass = Колесов\", fillcolor=\"#399de5ff\"] ;\n",
      "76 -> 106 ;\n",
      "107 [label=\"слово <= 0.5\\ngini = 0.3385\\nsamples = 278\\nvalue = [218, 60]\\nclass = Матвеев\", fillcolor=\"#e58139b9\"] ;\n",
      "1 -> 107 ;\n",
      "108 [label=\"система <= 0.5\\ngini = 0.2229\\nsamples = 180\\nvalue = [157, 23]\\nclass = Матвеев\", fillcolor=\"#e58139da\"] ;\n",
      "107 -> 108 ;\n",
      "109 [label=\"получиться <= 0.5\\ngini = 0.2005\\nsamples = 177\\nvalue = [157, 20]\\nclass = Матвеев\", fillcolor=\"#e58139df\"] ;\n",
      "108 -> 109 ;\n",
      "110 [label=\"уроженец <= 0.5\\ngini = 0.1846\\nsamples = 175\\nvalue = [157, 18]\\nclass = Матвеев\", fillcolor=\"#e58139e2\"] ;\n",
      "109 -> 110 ;\n",
      "111 [label=\"российский <= 0.5\\ngini = 0.1679\\nsamples = 173\\nvalue = [157, 16]\\nclass = Матвеев\", fillcolor=\"#e58139e5\"] ;\n",
      "110 -> 111 ;\n",
      "112 [label=\"там <= 0.5\\ngini = 0.1436\\nsamples = 167\\nvalue = [154, 13]\\nclass = Матвеев\", fillcolor=\"#e58139e9\"] ;\n",
      "111 -> 112 ;\n",
      "113 [label=\"лимерик <= 0.5\\ngini = 0.1251\\nsamples = 164\\nvalue = [153, 11]\\nclass = Матвеев\", fillcolor=\"#e58139ed\"] ;\n",
      "112 -> 113 ;\n",
      "114 [label=\"перевод <= 0.5\\ngini = 0.1152\\nsamples = 163\\nvalue = [153, 10]\\nclass = Матвеев\", fillcolor=\"#e58139ee\"] ;\n",
      "113 -> 114 ;\n",
      "115 [label=\"повышение <= 0.5\\ngini = 0.1049\\nsamples = 162\\nvalue = [153, 9]\\nclass = Матвеев\", fillcolor=\"#e58139f0\"] ;\n",
      "114 -> 115 ;\n",
      "116 [label=\"бородатый <= 0.5\\ngini = 0.0944\\nsamples = 161\\nvalue = [153, 8]\\nclass = Матвеев\", fillcolor=\"#e58139f2\"] ;\n",
      "115 -> 116 ;\n",
      "117 [label=\"gini = 0.0837\\nsamples = 160\\nvalue = [153, 7]\\nclass = Матвеев\", fillcolor=\"#e58139f3\"] ;\n",
      "116 -> 117 ;\n",
      "118 [label=\"gini = 0.0\\nsamples = 1\\nvalue = [0, 1]\\nclass = Колесов\", fillcolor=\"#399de5ff\"] ;\n",
      "116 -> 118 ;\n",
      "119 [label=\"gini = 0.0\\nsamples = 1\\nvalue = [0, 1]\\nclass = Колесов\", fillcolor=\"#399de5ff\"] ;\n",
      "115 -> 119 ;\n",
      "120 [label=\"gini = 0.0\\nsamples = 1\\nvalue = [0, 1]\\nclass = Колесов\", fillcolor=\"#399de5ff\"] ;\n",
      "114 -> 120 ;\n",
      "121 [label=\"gini = 0.0\\nsamples = 1\\nvalue = [0, 1]\\nclass = Колесов\", fillcolor=\"#399de5ff\"] ;\n",
      "113 -> 121 ;\n",
      "122 [label=\"шесть <= 0.5\\ngini = 0.4444\\nsamples = 3\\nvalue = [1, 2]\\nclass = Колесов\", fillcolor=\"#399de57f\"] ;\n",
      "112 -> 122 ;\n",
      "123 [label=\"gini = 0.0\\nsamples = 2\\nvalue = [0, 2]\\nclass = Колесов\", fillcolor=\"#399de5ff\"] ;\n",
      "122 -> 123 ;\n",
      "124 [label=\"gini = 0.0\\nsamples = 1\\nvalue = [1, 0]\\nclass = Матвеев\", fillcolor=\"#e58139ff\"] ;\n",
      "122 -> 124 ;\n",
      "125 [label=\"из <= 0.5\\ngini = 0.5\\nsamples = 6\\nvalue = [3, 3]\\nclass = Матвеев\", fillcolor=\"#e5813900\"] ;\n",
      "111 -> 125 ;\n",
      "126 [label=\"gini = 0.0\\nsamples = 3\\nvalue = [0, 3]\\nclass = Колесов\", fillcolor=\"#399de5ff\"] ;\n",
      "125 -> 126 ;\n",
      "127 [label=\"gini = 0.0\\nsamples = 3\\nvalue = [3, 0]\\nclass = Матвеев\", fillcolor=\"#e58139ff\"] ;\n",
      "125 -> 127 ;\n",
      "128 [label=\"gini = 0.0\\nsamples = 2\\nvalue = [0, 2]\\nclass = Колесов\", fillcolor=\"#399de5ff\"] ;\n",
      "110 -> 128 ;\n",
      "129 [label=\"gini = 0.0\\nsamples = 2\\nvalue = [0, 2]\\nclass = Колесов\", fillcolor=\"#399de5ff\"] ;\n",
      "109 -> 129 ;\n",
      "130 [label=\"gini = 0.0\\nsamples = 3\\nvalue = [0, 3]\\nclass = Колесов\", fillcolor=\"#399de5ff\"] ;\n",
      "108 -> 130 ;\n",
      "131 [label=\"изобразить <= 0.5\\ngini = 0.47\\nsamples = 98\\nvalue = [61, 37]\\nclass = Матвеев\", fillcolor=\"#e5813964\"] ;\n",
      "107 -> 131 ;\n",
      "132 [label=\"икс <= 1.0\\ngini = 0.4556\\nsamples = 94\\nvalue = [61, 33]\\nclass = Матвеев\", fillcolor=\"#e5813975\"] ;\n",
      "131 -> 132 ;\n",
      "133 [label=\"упоминаться <= 0.5\\ngini = 0.421\\nsamples = 83\\nvalue = [58, 25]\\nclass = Матвеев\", fillcolor=\"#e5813991\"] ;\n",
      "132 -> 133 ;\n",
      "134 [label=\"из <= 1.5\\ngini = 0.3903\\nsamples = 79\\nvalue = [58, 21]\\nclass = Матвеев\", fillcolor=\"#e58139a3\"] ;\n",
      "133 -> 134 ;\n",
      "135 [label=\"какой <= 0.5\\ngini = 0.3539\\nsamples = 74\\nvalue = [57, 17]\\nclass = Матвеев\", fillcolor=\"#e58139b3\"] ;\n",
      "134 -> 135 ;\n",
      "136 [label=\"несуществующий <= 0.5\\ngini = 0.2585\\nsamples = 59\\nvalue = [50, 9]\\nclass = Матвеев\", fillcolor=\"#e58139d1\"] ;\n",
      "135 -> 136 ;\n",
      "137 [label=\"происходить <= 0.5\\ngini = 0.2155\\nsamples = 57\\nvalue = [50, 7]\\nclass = Матвеев\", fillcolor=\"#e58139db\"] ;\n",
      "136 -> 137 ;\n",
      "138 [label=\"родные <= 1.0\\ngini = 0.168\\nsamples = 54\\nvalue = [49, 5]\\nclass = Матвеев\", fillcolor=\"#e58139e5\"] ;\n",
      "137 -> 138 ;\n",
      "139 [label=\"кирилл <= 0.5\\ngini = 0.1396\\nsamples = 53\\nvalue = [49, 4]\\nclass = Матвеев\", fillcolor=\"#e58139ea\"] ;\n",
      "138 -> 139 ;\n",
      "140 [label=\"gini = 0.1087\\nsamples = 52\\nvalue = [49, 3]\\nclass = Матвеев\", fillcolor=\"#e58139ef\"] ;\n",
      "139 -> 140 ;\n",
      "141 [label=\"gini = 0.0\\nsamples = 1\\nvalue = [0, 1]\\nclass = Колесов\", fillcolor=\"#399de5ff\"] ;\n",
      "139 -> 141 ;\n",
      "142 [label=\"gini = 0.0\\nsamples = 1\\nvalue = [0, 1]\\nclass = Колесов\", fillcolor=\"#399de5ff\"] ;\n",
      "138 -> 142 ;\n",
      "143 [label=\"английский <= 0.5\\ngini = 0.4444\\nsamples = 3\\nvalue = [1, 2]\\nclass = Колесов\", fillcolor=\"#399de57f\"] ;\n",
      "137 -> 143 ;\n",
      "144 [label=\"gini = 0.0\\nsamples = 2\\nvalue = [0, 2]\\nclass = Колесов\", fillcolor=\"#399de5ff\"] ;\n",
      "143 -> 144 ;\n",
      "145 [label=\"gini = 0.0\\nsamples = 1\\nvalue = [1, 0]\\nclass = Матвеев\", fillcolor=\"#e58139ff\"] ;\n",
      "143 -> 145 ;\n",
      "146 [label=\"gini = 0.0\\nsamples = 2\\nvalue = [0, 2]\\nclass = Колесов\", fillcolor=\"#399de5ff\"] ;\n",
      "136 -> 146 ;\n",
      "147 [label=\"мочь <= 0.5\\ngini = 0.4978\\nsamples = 15\\nvalue = [7, 8]\\nclass = Колесов\", fillcolor=\"#399de520\"] ;\n",
      "135 -> 147 ;\n",
      "148 [label=\"он <= 1.5\\ngini = 0.4734\\nsamples = 13\\nvalue = [5, 8]\\nclass = Колесов\", fillcolor=\"#399de560\"] ;\n",
      "147 -> 148 ;\n",
      "149 [label=\"они <= 0.5\\ngini = 0.3967\\nsamples = 11\\nvalue = [3, 8]\\nclass = Колесов\", fillcolor=\"#399de59f\"] ;\n",
      "148 -> 149 ;\n",
      "150 [label=\"русский <= 0.5\\ngini = 0.2188\\nsamples = 8\\nvalue = [1, 7]\\nclass = Колесов\", fillcolor=\"#399de5db\"] ;\n",
      "149 -> 150 ;\n",
      "151 [label=\"gini = 0.0\\nsamples = 7\\nvalue = [0, 7]\\nclass = Колесов\", fillcolor=\"#399de5ff\"] ;\n",
      "150 -> 151 ;\n",
      "152 [label=\"gini = 0.0\\nsamples = 1\\nvalue = [1, 0]\\nclass = Матвеев\", fillcolor=\"#e58139ff\"] ;\n",
      "150 -> 152 ;\n",
      "153 [label=\"место <= 0.5\\ngini = 0.4444\\nsamples = 3\\nvalue = [2, 1]\\nclass = Матвеев\", fillcolor=\"#e581397f\"] ;\n",
      "149 -> 153 ;\n",
      "154 [label=\"gini = 0.0\\nsamples = 2\\nvalue = [2, 0]\\nclass = Матвеев\", fillcolor=\"#e58139ff\"] ;\n",
      "153 -> 154 ;\n",
      "155 [label=\"gini = 0.0\\nsamples = 1\\nvalue = [0, 1]\\nclass = Колесов\", fillcolor=\"#399de5ff\"] ;\n",
      "153 -> 155 ;\n",
      "156 [label=\"gini = 0.0\\nsamples = 2\\nvalue = [2, 0]\\nclass = Матвеев\", fillcolor=\"#e58139ff\"] ;\n",
      "148 -> 156 ;\n",
      "157 [label=\"gini = 0.0\\nsamples = 2\\nvalue = [2, 0]\\nclass = Матвеев\", fillcolor=\"#e58139ff\"] ;\n",
      "147 -> 157 ;\n",
      "158 [label=\"резервуар <= 0.5\\ngini = 0.32\\nsamples = 5\\nvalue = [1, 4]\\nclass = Колесов\", fillcolor=\"#399de5bf\"] ;\n",
      "134 -> 158 ;\n",
      "159 [label=\"gini = 0.0\\nsamples = 4\\nvalue = [0, 4]\\nclass = Колесов\", fillcolor=\"#399de5ff\"] ;\n",
      "158 -> 159 ;\n",
      "160 [label=\"gini = 0.0\\nsamples = 1\\nvalue = [1, 0]\\nclass = Матвеев\", fillcolor=\"#e58139ff\"] ;\n",
      "158 -> 160 ;\n",
      "161 [label=\"gini = 0.0\\nsamples = 4\\nvalue = [0, 4]\\nclass = Колесов\", fillcolor=\"#399de5ff\"] ;\n",
      "133 -> 161 ;\n",
      "162 [label=\"мы <= 0.5\\ngini = 0.3967\\nsamples = 11\\nvalue = [3, 8]\\nclass = Колесов\", fillcolor=\"#399de59f\"] ;\n",
      "132 -> 162 ;\n",
      "163 [label=\"gini = 0.0\\nsamples = 7\\nvalue = [0, 7]\\nclass = Колесов\", fillcolor=\"#399de5ff\"] ;\n",
      "162 -> 163 ;\n",
      "164 [label=\"внешний <= 0.5\\ngini = 0.375\\nsamples = 4\\nvalue = [3, 1]\\nclass = Матвеев\", fillcolor=\"#e58139aa\"] ;\n",
      "162 -> 164 ;\n",
      "165 [label=\"gini = 0.0\\nsamples = 3\\nvalue = [3, 0]\\nclass = Матвеев\", fillcolor=\"#e58139ff\"] ;\n",
      "164 -> 165 ;\n",
      "166 [label=\"gini = 0.0\\nsamples = 1\\nvalue = [0, 1]\\nclass = Колесов\", fillcolor=\"#399de5ff\"] ;\n",
      "164 -> 166 ;\n",
      "167 [label=\"gini = 0.0\\nsamples = 4\\nvalue = [0, 4]\\nclass = Колесов\", fillcolor=\"#399de5ff\"] ;\n",
      "131 -> 167 ;\n",
      "168 [label=\"год <= 0.5\\ngini = 0.4028\\nsamples = 601\\nvalue = [168, 433]\\nclass = Колесов\", fillcolor=\"#399de59c\"] ;\n",
      "0 -> 168 [labeldistance=2.5, labelangle=-45, headlabel=\"False\"] ;\n",
      "169 [label=\"как <= 1.5\\ngini = 0.2114\\nsamples = 358\\nvalue = [43, 315]\\nclass = Колесов\", fillcolor=\"#399de5dc\"] ;\n",
      "168 -> 169 ;\n",
      "170 [label=\"после <= 0.5\\ngini = 0.1921\\nsamples = 353\\nvalue = [38, 315]\\nclass = Колесов\", fillcolor=\"#399de5e0\"] ;\n",
      "169 -> 170 ;\n",
      "171 [label=\"оценка <= 0.5\\ngini = 0.1613\\nsamples = 339\\nvalue = [30, 309]\\nclass = Колесов\", fillcolor=\"#399de5e6\"] ;\n",
      "170 -> 171 ;\n",
      "172 [label=\"чемпионат <= 0.5\\ngini = 0.1478\\nsamples = 336\\nvalue = [27, 309]\\nclass = Колесов\", fillcolor=\"#399de5e9\"] ;\n",
      "171 -> 172 ;\n",
      "173 [label=\"заполнить <= 0.5\\ngini = 0.1341\\nsamples = 332\\nvalue = [24, 308]\\nclass = Колесов\", fillcolor=\"#399de5eb\"] ;\n",
      "172 -> 173 ;\n",
      "174 [label=\"считаться <= 0.5\\ngini = 0.1199\\nsamples = 328\\nvalue = [21, 307]\\nclass = Колесов\", fillcolor=\"#399de5ee\"] ;\n",
      "173 -> 174 ;\n",
      "175 [label=\"задача <= 0.5\\ngini = 0.1098\\nsamples = 326\\nvalue = [19, 307]\\nclass = Колесов\", fillcolor=\"#399de5ef\"] ;\n",
      "174 -> 175 ;\n",
      "176 [label=\"создание <= 0.5\\ngini = 0.0994\\nsamples = 324\\nvalue = [17, 307]\\nclass = Колесов\", fillcolor=\"#399de5f1\"] ;\n",
      "175 -> 176 ;\n",
      "177 [label=\"скорость <= 0.5\\ngini = 0.0891\\nsamples = 321\\nvalue = [15, 306]\\nclass = Колесов\", fillcolor=\"#399de5f2\"] ;\n",
      "176 -> 177 ;\n",
      "178 [label=\"грегори <= 0.5\\ngini = 0.0784\\nsamples = 318\\nvalue = [13, 305]\\nclass = Колесов\", fillcolor=\"#399de5f4\"] ;\n",
      "177 -> 178 ;\n",
      "179 [label=\"gini = 0.0728\\nsamples = 317\\nvalue = [12, 305]\\nclass = Колесов\", fillcolor=\"#399de5f5\"] ;\n",
      "178 -> 179 ;\n",
      "180 [label=\"gini = 0.0\\nsamples = 1\\nvalue = [1, 0]\\nclass = Матвеев\", fillcolor=\"#e58139ff\"] ;\n",
      "178 -> 180 ;\n",
      "181 [label=\"сентябрь <= 0.5\\ngini = 0.4444\\nsamples = 3\\nvalue = [2, 1]\\nclass = Матвеев\", fillcolor=\"#e581397f\"] ;\n",
      "177 -> 181 ;\n",
      "182 [label=\"gini = 0.0\\nsamples = 2\\nvalue = [2, 0]\\nclass = Матвеев\", fillcolor=\"#e58139ff\"] ;\n",
      "181 -> 182 ;\n",
      "183 [label=\"gini = 0.0\\nsamples = 1\\nvalue = [0, 1]\\nclass = Колесов\", fillcolor=\"#399de5ff\"] ;\n",
      "181 -> 183 ;\n",
      "184 [label=\"серебронза <= 0.5\\ngini = 0.4444\\nsamples = 3\\nvalue = [2, 1]\\nclass = Матвеев\", fillcolor=\"#e581397f\"] ;\n",
      "176 -> 184 ;\n",
      "185 [label=\"gini = 0.0\\nsamples = 2\\nvalue = [2, 0]\\nclass = Матвеев\", fillcolor=\"#e58139ff\"] ;\n",
      "184 -> 185 ;\n",
      "186 [label=\"gini = 0.0\\nsamples = 1\\nvalue = [0, 1]\\nclass = Колесов\", fillcolor=\"#399de5ff\"] ;\n",
      "184 -> 186 ;\n",
      "187 [label=\"gini = 0.0\\nsamples = 2\\nvalue = [2, 0]\\nclass = Матвеев\", fillcolor=\"#e58139ff\"] ;\n",
      "175 -> 187 ;\n",
      "188 [label=\"gini = 0.0\\nsamples = 2\\nvalue = [2, 0]\\nclass = Матвеев\", fillcolor=\"#e58139ff\"] ;\n",
      "174 -> 188 ;\n",
      "189 [label=\"слово <= 0.5\\ngini = 0.375\\nsamples = 4\\nvalue = [3, 1]\\nclass = Матвеев\", fillcolor=\"#e58139aa\"] ;\n",
      "173 -> 189 ;\n",
      "190 [label=\"gini = 0.0\\nsamples = 3\\nvalue = [3, 0]\\nclass = Матвеев\", fillcolor=\"#e58139ff\"] ;\n",
      "189 -> 190 ;\n",
      "191 [label=\"gini = 0.0\\nsamples = 1\\nvalue = [0, 1]\\nclass = Колесов\", fillcolor=\"#399de5ff\"] ;\n",
      "189 -> 191 ;\n",
      "192 [label=\"пропуск <= 0.5\\ngini = 0.375\\nsamples = 4\\nvalue = [3, 1]\\nclass = Матвеев\", fillcolor=\"#e58139aa\"] ;\n",
      "172 -> 192 ;\n",
      "193 [label=\"gini = 0.0\\nsamples = 3\\nvalue = [3, 0]\\nclass = Матвеев\", fillcolor=\"#e58139ff\"] ;\n",
      "192 -> 193 ;\n",
      "194 [label=\"gini = 0.0\\nsamples = 1\\nvalue = [0, 1]\\nclass = Колесов\", fillcolor=\"#399de5ff\"] ;\n",
      "192 -> 194 ;\n",
      "195 [label=\"gini = 0.0\\nsamples = 3\\nvalue = [3, 0]\\nclass = Матвеев\", fillcolor=\"#e58139ff\"] ;\n",
      "171 -> 195 ;\n",
      "196 [label=\"он <= 0.5\\ngini = 0.4898\\nsamples = 14\\nvalue = [8, 6]\\nclass = Матвеев\", fillcolor=\"#e5813940\"] ;\n",
      "170 -> 196 ;\n",
      "197 [label=\"герой <= 0.5\\ngini = 0.2188\\nsamples = 8\\nvalue = [7, 1]\\nclass = Матвеев\", fillcolor=\"#e58139db\"] ;\n",
      "196 -> 197 ;\n",
      "198 [label=\"gini = 0.0\\nsamples = 7\\nvalue = [7, 0]\\nclass = Матвеев\", fillcolor=\"#e58139ff\"] ;\n",
      "197 -> 198 ;\n",
      "199 [label=\"gini = 0.0\\nsamples = 1\\nvalue = [0, 1]\\nclass = Колесов\", fillcolor=\"#399de5ff\"] ;\n",
      "197 -> 199 ;\n",
      "200 [label=\"это <= 0.5\\ngini = 0.2778\\nsamples = 6\\nvalue = [1, 5]\\nclass = Колесов\", fillcolor=\"#399de5cc\"] ;\n",
      "196 -> 200 ;\n",
      "201 [label=\"gini = 0.0\\nsamples = 1\\nvalue = [1, 0]\\nclass = Матвеев\", fillcolor=\"#e58139ff\"] ;\n",
      "200 -> 201 ;\n",
      "202 [label=\"gini = 0.0\\nsamples = 5\\nvalue = [0, 5]\\nclass = Колесов\", fillcolor=\"#399de5ff\"] ;\n",
      "200 -> 202 ;\n",
      "203 [label=\"gini = 0.0\\nsamples = 5\\nvalue = [5, 0]\\nclass = Матвеев\", fillcolor=\"#e58139ff\"] ;\n",
      "169 -> 203 ;\n",
      "204 [label=\"num <= 1.5\\ngini = 0.4996\\nsamples = 243\\nvalue = [125, 118]\\nclass = Матвеев\", fillcolor=\"#e581390e\"] ;\n",
      "168 -> 204 ;\n",
      "205 [label=\"вы <= 0.5\\ngini = 0.4621\\nsamples = 149\\nvalue = [95, 54]\\nclass = Матвеев\", fillcolor=\"#e581396e\"] ;\n",
      "204 -> 205 ;\n",
      "206 [label=\"не <= 0.5\\ngini = 0.4379\\nsamples = 139\\nvalue = [94, 45]\\nclass = Матвеев\", fillcolor=\"#e5813985\"] ;\n",
      "205 -> 206 ;\n",
      "207 [label=\"что <= 0.5\\ngini = 0.4778\\nsamples = 114\\nvalue = [69, 45]\\nclass = Матвеев\", fillcolor=\"#e5813959\"] ;\n",
      "206 -> 207 ;\n",
      "208 [label=\"фильм <= 0.5\\ngini = 0.4991\\nsamples = 69\\nvalue = [33, 36]\\nclass = Колесов\", fillcolor=\"#399de515\"] ;\n",
      "207 -> 208 ;\n",
      "209 [label=\"два <= 0.5\\ngini = 0.4989\\nsamples = 63\\nvalue = [33, 30]\\nclass = Матвеев\", fillcolor=\"#e5813917\"] ;\n",
      "208 -> 209 ;\n",
      "210 [label=\"написать <= 0.5\\ngini = 0.48\\nsamples = 50\\nvalue = [30, 20]\\nclass = Матвеев\", fillcolor=\"#e5813955\"] ;\n",
      "209 -> 210 ;\n",
      "211 [label=\"означать <= 0.5\\ngini = 0.4444\\nsamples = 42\\nvalue = [28, 14]\\nclass = Матвеев\", fillcolor=\"#e581397f\"] ;\n",
      "210 -> 211 ;\n",
      "212 [label=\"играть <= 0.5\\ngini = 0.42\\nsamples = 40\\nvalue = [28, 12]\\nclass = Матвеев\", fillcolor=\"#e5813992\"] ;\n",
      "211 -> 212 ;\n",
      "213 [label=\"время <= 0.5\\ngini = 0.3878\\nsamples = 38\\nvalue = [28, 10]\\nclass = Матвеев\", fillcolor=\"#e58139a4\"] ;\n",
      "212 -> 213 ;\n",
      "214 [label=\"gini = 0.3457\\nsamples = 36\\nvalue = [28, 8]\\nclass = Матвеев\", fillcolor=\"#e58139b6\"] ;\n",
      "213 -> 214 ;\n",
      "215 [label=\"gini = 0.0\\nsamples = 2\\nvalue = [0, 2]\\nclass = Колесов\", fillcolor=\"#399de5ff\"] ;\n",
      "213 -> 215 ;\n",
      "216 [label=\"gini = 0.0\\nsamples = 2\\nvalue = [0, 2]\\nclass = Колесов\", fillcolor=\"#399de5ff\"] ;\n",
      "212 -> 216 ;\n",
      "217 [label=\"gini = 0.0\\nsamples = 2\\nvalue = [0, 2]\\nclass = Колесов\", fillcolor=\"#399de5ff\"] ;\n",
      "211 -> 217 ;\n",
      "218 [label=\"по <= 0.5\\ngini = 0.375\\nsamples = 8\\nvalue = [2, 6]\\nclass = Колесов\", fillcolor=\"#399de5aa\"] ;\n",
      "210 -> 218 ;\n",
      "219 [label=\"gini = 0.0\\nsamples = 6\\nvalue = [0, 6]\\nclass = Колесов\", fillcolor=\"#399de5ff\"] ;\n",
      "218 -> 219 ;\n",
      "220 [label=\"gini = 0.0\\nsamples = 2\\nvalue = [2, 0]\\nclass = Матвеев\", fillcolor=\"#e58139ff\"] ;\n",
      "218 -> 220 ;\n",
      "221 [label=\"быть <= 1.5\\ngini = 0.355\\nsamples = 13\\nvalue = [3, 10]\\nclass = Колесов\", fillcolor=\"#399de5b3\"] ;\n",
      "209 -> 221 ;\n",
      "222 [label=\"местонахождение <= 0.5\\ngini = 0.1653\\nsamples = 11\\nvalue = [1, 10]\\nclass = Колесов\", fillcolor=\"#399de5e6\"] ;\n",
      "221 -> 222 ;\n",
      "223 [label=\"gini = 0.0\\nsamples = 10\\nvalue = [0, 10]\\nclass = Колесов\", fillcolor=\"#399de5ff\"] ;\n",
      "222 -> 223 ;\n",
      "224 [label=\"gini = 0.0\\nsamples = 1\\nvalue = [1, 0]\\nclass = Матвеев\", fillcolor=\"#e58139ff\"] ;\n",
      "222 -> 224 ;\n",
      "225 [label=\"gini = 0.0\\nsamples = 2\\nvalue = [2, 0]\\nclass = Матвеев\", fillcolor=\"#e58139ff\"] ;\n",
      "221 -> 225 ;\n",
      "226 [label=\"gini = 0.0\\nsamples = 6\\nvalue = [0, 6]\\nclass = Колесов\", fillcolor=\"#399de5ff\"] ;\n",
      "208 -> 226 ;\n",
      "227 [label=\"три <= 0.5\\ngini = 0.32\\nsamples = 45\\nvalue = [36, 9]\\nclass = Матвеев\", fillcolor=\"#e58139bf\"] ;\n",
      "207 -> 227 ;\n",
      "228 [label=\"для <= 0.5\\ngini = 0.2449\\nsamples = 42\\nvalue = [36, 6]\\nclass = Матвеев\", fillcolor=\"#e58139d4\"] ;\n",
      "227 -> 228 ;\n",
      "229 [label=\"иногда <= 0.5\\ngini = 0.1841\\nsamples = 39\\nvalue = [35, 4]\\nclass = Матвеев\", fillcolor=\"#e58139e2\"] ;\n",
      "228 -> 229 ;\n",
      "230 [label=\"первенец <= 0.5\\ngini = 0.1049\\nsamples = 36\\nvalue = [34, 2]\\nclass = Матвеев\", fillcolor=\"#e58139f0\"] ;\n",
      "229 -> 230 ;\n",
      "231 [label=\"кошка <= 0.5\\ngini = 0.0555\\nsamples = 35\\nvalue = [34, 1]\\nclass = Матвеев\", fillcolor=\"#e58139f8\"] ;\n",
      "230 -> 231 ;\n",
      "232 [label=\"gini = 0.0\\nsamples = 34\\nvalue = [34, 0]\\nclass = Матвеев\", fillcolor=\"#e58139ff\"] ;\n",
      "231 -> 232 ;\n",
      "233 [label=\"gini = 0.0\\nsamples = 1\\nvalue = [0, 1]\\nclass = Колесов\", fillcolor=\"#399de5ff\"] ;\n",
      "231 -> 233 ;\n",
      "234 [label=\"gini = 0.0\\nsamples = 1\\nvalue = [0, 1]\\nclass = Колесов\", fillcolor=\"#399de5ff\"] ;\n",
      "230 -> 234 ;\n",
      "235 [label=\"футболист <= 0.5\\ngini = 0.4444\\nsamples = 3\\nvalue = [1, 2]\\nclass = Колесов\", fillcolor=\"#399de57f\"] ;\n",
      "229 -> 235 ;\n",
      "236 [label=\"gini = 0.0\\nsamples = 2\\nvalue = [0, 2]\\nclass = Колесов\", fillcolor=\"#399de5ff\"] ;\n",
      "235 -> 236 ;\n",
      "237 [label=\"gini = 0.0\\nsamples = 1\\nvalue = [1, 0]\\nclass = Матвеев\", fillcolor=\"#e58139ff\"] ;\n",
      "235 -> 237 ;\n",
      "238 [label=\"написать <= 0.5\\ngini = 0.4444\\nsamples = 3\\nvalue = [1, 2]\\nclass = Колесов\", fillcolor=\"#399de57f\"] ;\n",
      "228 -> 238 ;\n",
      "239 [label=\"gini = 0.0\\nsamples = 2\\nvalue = [0, 2]\\nclass = Колесов\", fillcolor=\"#399de5ff\"] ;\n",
      "238 -> 239 ;\n",
      "240 [label=\"gini = 0.0\\nsamples = 1\\nvalue = [1, 0]\\nclass = Матвеев\", fillcolor=\"#e58139ff\"] ;\n",
      "238 -> 240 ;\n",
      "241 [label=\"gini = 0.0\\nsamples = 3\\nvalue = [0, 3]\\nclass = Колесов\", fillcolor=\"#399de5ff\"] ;\n",
      "227 -> 241 ;\n",
      "242 [label=\"gini = 0.0\\nsamples = 25\\nvalue = [25, 0]\\nclass = Матвеев\", fillcolor=\"#e58139ff\"] ;\n",
      "206 -> 242 ;\n",
      "243 [label=\"загрузить <= 0.5\\ngini = 0.18\\nsamples = 10\\nvalue = [1, 9]\\nclass = Колесов\", fillcolor=\"#399de5e3\"] ;\n",
      "205 -> 243 ;\n",
      "244 [label=\"gini = 0.0\\nsamples = 9\\nvalue = [0, 9]\\nclass = Колесов\", fillcolor=\"#399de5ff\"] ;\n",
      "243 -> 244 ;\n",
      "245 [label=\"gini = 0.0\\nsamples = 1\\nvalue = [1, 0]\\nclass = Матвеев\", fillcolor=\"#e58139ff\"] ;\n",
      "243 -> 245 ;\n",
      "246 [label=\"под <= 0.5\\ngini = 0.4346\\nsamples = 94\\nvalue = [30, 64]\\nclass = Колесов\", fillcolor=\"#399de587\"] ;\n",
      "204 -> 246 ;\n",
      "247 [label=\"появиться <= 0.5\\ngini = 0.4109\\nsamples = 90\\nvalue = [26, 64]\\nclass = Колесов\", fillcolor=\"#399de597\"] ;\n",
      "246 -> 247 ;\n",
      "248 [label=\"рождение <= 0.5\\ngini = 0.3807\\nsamples = 86\\nvalue = [22, 64]\\nclass = Колесов\", fillcolor=\"#399de5a7\"] ;\n",
      "247 -> 248 ;\n",
      "249 [label=\"по <= 1.5\\ngini = 0.3427\\nsamples = 82\\nvalue = [18, 64]\\nclass = Колесов\", fillcolor=\"#399de5b7\"] ;\n",
      "248 -> 249 ;\n",
      "250 [label=\"примерно <= 0.5\\ngini = 0.3076\\nsamples = 79\\nvalue = [15, 64]\\nclass = Колесов\", fillcolor=\"#399de5c3\"] ;\n",
      "249 -> 250 ;\n",
      "251 [label=\"принять <= 0.5\\ngini = 0.2807\\nsamples = 77\\nvalue = [13, 64]\\nclass = Колесов\", fillcolor=\"#399de5cb\"] ;\n",
      "250 -> 251 ;\n",
      "252 [label=\"приводить <= 0.5\\ngini = 0.2503\\nsamples = 75\\nvalue = [11, 64]\\nclass = Колесов\", fillcolor=\"#399de5d3\"] ;\n",
      "251 -> 252 ;\n",
      "253 [label=\"занимать <= 0.5\\ngini = 0.2162\\nsamples = 73\\nvalue = [9, 64]\\nclass = Колесов\", fillcolor=\"#399de5db\"] ;\n",
      "252 -> 253 ;\n",
      "254 [label=\"через <= 0.5\\ngini = 0.1777\\nsamples = 71\\nvalue = [7, 64]\\nclass = Колесов\", fillcolor=\"#399de5e3\"] ;\n",
      "253 -> 254 ;\n",
      "255 [label=\"gini = 0.1344\\nsamples = 69\\nvalue = [5, 64]\\nclass = Колесов\", fillcolor=\"#399de5eb\"] ;\n",
      "254 -> 255 ;\n",
      "256 [label=\"gini = 0.0\\nsamples = 2\\nvalue = [2, 0]\\nclass = Матвеев\", fillcolor=\"#e58139ff\"] ;\n",
      "254 -> 256 ;\n",
      "257 [label=\"gini = 0.0\\nsamples = 2\\nvalue = [2, 0]\\nclass = Матвеев\", fillcolor=\"#e58139ff\"] ;\n",
      "253 -> 257 ;\n",
      "258 [label=\"gini = 0.0\\nsamples = 2\\nvalue = [2, 0]\\nclass = Матвеев\", fillcolor=\"#e58139ff\"] ;\n",
      "252 -> 258 ;\n",
      "259 [label=\"gini = 0.0\\nsamples = 2\\nvalue = [2, 0]\\nclass = Матвеев\", fillcolor=\"#e58139ff\"] ;\n",
      "251 -> 259 ;\n",
      "260 [label=\"gini = 0.0\\nsamples = 2\\nvalue = [2, 0]\\nclass = Матвеев\", fillcolor=\"#e58139ff\"] ;\n",
      "250 -> 260 ;\n",
      "261 [label=\"gini = 0.0\\nsamples = 3\\nvalue = [3, 0]\\nclass = Матвеев\", fillcolor=\"#e58139ff\"] ;\n",
      "249 -> 261 ;\n",
      "262 [label=\"gini = 0.0\\nsamples = 4\\nvalue = [4, 0]\\nclass = Матвеев\", fillcolor=\"#e58139ff\"] ;\n",
      "248 -> 262 ;\n",
      "263 [label=\"gini = 0.0\\nsamples = 4\\nvalue = [4, 0]\\nclass = Матвеев\", fillcolor=\"#e58139ff\"] ;\n",
      "247 -> 263 ;\n",
      "264 [label=\"gini = 0.0\\nsamples = 4\\nvalue = [4, 0]\\nclass = Матвеев\", fillcolor=\"#e58139ff\"] ;\n",
      "246 -> 264 ;\n",
      "}\n"
     ]
    }
   ],
   "source": [
    "get_tree_dot_view(clf, vectorizer.get_feature_names(), ['Матвеев','Колесов'])"
   ]
  },
  {
   "cell_type": "code",
   "execution_count": 44,
   "metadata": {
    "collapsed": true
   },
   "outputs": [],
   "source": [
    "def get_top_indexes(s):\n",
    "    return sorted(range(len(s)), key=lambda k: s[k], reverse=True)"
   ]
  },
  {
   "cell_type": "code",
   "execution_count": 45,
   "metadata": {
    "collapsed": true
   },
   "outputs": [],
   "source": [
    "feature_names = vectorizer.get_feature_names()"
   ]
  },
  {
   "cell_type": "code",
   "execution_count": 46,
   "metadata": {
    "collapsed": true
   },
   "outputs": [],
   "source": [
    "top_indexes = get_top_indexes(clf.feature_importances_)\n",
    "top_indexes = top_indexes[:10]\n",
    "top_indexes.reverse()"
   ]
  },
  {
   "cell_type": "code",
   "execution_count": 47,
   "metadata": {
    "collapsed": true
   },
   "outputs": [],
   "source": [
    "top_importances = [clf.feature_importances_[i] for i in top_indexes]\n",
    "top_words = [feature_names[i] for i in top_indexes]"
   ]
  },
  {
   "cell_type": "code",
   "execution_count": 49,
   "metadata": {
    "collapsed": false
   },
   "outputs": [
    {
     "data": {
      "text/plain": [
       "''"
      ]
     },
     "execution_count": 49,
     "metadata": {},
     "output_type": "execute_result"
    },
    {
     "data": {
      "image/png": "[encoded data removed]",
      "text/plain": [
       "<matplotlib.figure.Figure at 0x14dff12e8>"
      ]
     },
     "metadata": {},
     "output_type": "display_data"
    }
   ],
   "source": [
    "plt.barh(np.arange(len(top_importances)), top_importances)\n",
    "plt.yticks(np.arange(len(top_words)), top_words)\n",
    "''"
   ]
  },
  {
   "cell_type": "markdown",
   "metadata": {},
   "source": [
    "Очевидно, один из авторов любит \"исторические\" вопросы с упоминанием дат."
   ]
  }
 ],
 "metadata": {
  "kernelspec": {
   "display_name": "Python 3",
   "language": "python",
   "name": "python3"
  }
 },
 "nbformat": 4,
 "nbformat_minor": 2
}
