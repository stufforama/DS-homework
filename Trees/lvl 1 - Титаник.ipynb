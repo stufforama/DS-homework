{
 "cells": [
  {
   "cell_type": "markdown",
   "metadata": {},
   "source": [
    "# Titanic: Machine Learning from Disaster"
   ]
  },
  {
   "cell_type": "code",
   "execution_count": null,
   "metadata": {
    "collapsed": true
   },
   "outputs": [],
   "source": [
    "# https://www.kaggle.com/c/titanic"
   ]
  },
  {
   "cell_type": "code",
   "execution_count": 1,
   "metadata": {
    "collapsed": true
   },
   "outputs": [],
   "source": [
    "import sklearn\n",
    "import numpy as np\n",
    "import pandas as pd\n",
    "from matplotlib import pyplot as plt\n",
    "%matplotlib inline\n",
    "import seaborn as sns"
   ]
  },
  {
   "cell_type": "code",
   "execution_count": 2,
   "metadata": {
    "collapsed": true
   },
   "outputs": [],
   "source": [
    "train = pd.read_csv('./titanic/train.csv')\n",
    "test = pd.read_csv('./titanic/test.csv')"
   ]
  },
  {
   "cell_type": "code",
   "execution_count": 3,
   "metadata": {
    "collapsed": false
   },
   "outputs": [
    {
     "data": {
      "text/html": [
       "<div>\n",
       "<style>\n",
       "    .dataframe thead tr:only-child th {\n",
       "        text-align: right;\n",
       "    }\n",
       "\n",
       "    .dataframe thead th {\n",
       "        text-align: left;\n",
       "    }\n",
       "\n",
       "    .dataframe tbody tr th {\n",
       "        vertical-align: top;\n",
       "    }\n",
       "</style>\n",
       "<table border=\"1\" class=\"dataframe\">\n",
       "  <thead>\n",
       "    <tr style=\"text-align: right;\">\n",
       "      <th></th>\n",
       "      <th>PassengerId</th>\n",
       "      <th>Survived</th>\n",
       "      <th>Pclass</th>\n",
       "      <th>Name</th>\n",
       "      <th>Sex</th>\n",
       "      <th>Age</th>\n",
       "      <th>SibSp</th>\n",
       "      <th>Parch</th>\n",
       "      <th>Ticket</th>\n",
       "      <th>Fare</th>\n",
       "      <th>Cabin</th>\n",
       "      <th>Embarked</th>\n",
       "    </tr>\n",
       "  </thead>\n",
       "  <tbody>\n",
       "    <tr>\n",
       "      <th>0</th>\n",
       "      <td>1</td>\n",
       "      <td>0</td>\n",
       "      <td>3</td>\n",
       "      <td>Braund, Mr. Owen Harris</td>\n",
       "      <td>male</td>\n",
       "      <td>22.0</td>\n",
       "      <td>1</td>\n",
       "      <td>0</td>\n",
       "      <td>A/5 21171</td>\n",
       "      <td>7.2500</td>\n",
       "      <td>NaN</td>\n",
       "      <td>S</td>\n",
       "    </tr>\n",
       "    <tr>\n",
       "      <th>1</th>\n",
       "      <td>2</td>\n",
       "      <td>1</td>\n",
       "      <td>1</td>\n",
       "      <td>Cumings, Mrs. John Bradley (Florence Briggs Th...</td>\n",
       "      <td>female</td>\n",
       "      <td>38.0</td>\n",
       "      <td>1</td>\n",
       "      <td>0</td>\n",
       "      <td>PC 17599</td>\n",
       "      <td>71.2833</td>\n",
       "      <td>C85</td>\n",
       "      <td>C</td>\n",
       "    </tr>\n",
       "    <tr>\n",
       "      <th>2</th>\n",
       "      <td>3</td>\n",
       "      <td>1</td>\n",
       "      <td>3</td>\n",
       "      <td>Heikkinen, Miss. Laina</td>\n",
       "      <td>female</td>\n",
       "      <td>26.0</td>\n",
       "      <td>0</td>\n",
       "      <td>0</td>\n",
       "      <td>STON/O2. 3101282</td>\n",
       "      <td>7.9250</td>\n",
       "      <td>NaN</td>\n",
       "      <td>S</td>\n",
       "    </tr>\n",
       "    <tr>\n",
       "      <th>3</th>\n",
       "      <td>4</td>\n",
       "      <td>1</td>\n",
       "      <td>1</td>\n",
       "      <td>Futrelle, Mrs. Jacques Heath (Lily May Peel)</td>\n",
       "      <td>female</td>\n",
       "      <td>35.0</td>\n",
       "      <td>1</td>\n",
       "      <td>0</td>\n",
       "      <td>113803</td>\n",
       "      <td>53.1000</td>\n",
       "      <td>C123</td>\n",
       "      <td>S</td>\n",
       "    </tr>\n",
       "    <tr>\n",
       "      <th>4</th>\n",
       "      <td>5</td>\n",
       "      <td>0</td>\n",
       "      <td>3</td>\n",
       "      <td>Allen, Mr. William Henry</td>\n",
       "      <td>male</td>\n",
       "      <td>35.0</td>\n",
       "      <td>0</td>\n",
       "      <td>0</td>\n",
       "      <td>373450</td>\n",
       "      <td>8.0500</td>\n",
       "      <td>NaN</td>\n",
       "      <td>S</td>\n",
       "    </tr>\n",
       "  </tbody>\n",
       "</table>\n",
       "</div>"
      ],
      "text/plain": [
       "   PassengerId  Survived  Pclass  \\\n",
       "0            1         0       3   \n",
       "1            2         1       1   \n",
       "2            3         1       3   \n",
       "3            4         1       1   \n",
       "4            5         0       3   \n",
       "\n",
       "                                                Name     Sex   Age  SibSp  \\\n",
       "0                            Braund, Mr. Owen Harris    male  22.0      1   \n",
       "1  Cumings, Mrs. John Bradley (Florence Briggs Th...  female  38.0      1   \n",
       "2                             Heikkinen, Miss. Laina  female  26.0      0   \n",
       "3       Futrelle, Mrs. Jacques Heath (Lily May Peel)  female  35.0      1   \n",
       "4                           Allen, Mr. William Henry    male  35.0      0   \n",
       "\n",
       "   Parch            Ticket     Fare Cabin Embarked  \n",
       "0      0         A/5 21171   7.2500   NaN        S  \n",
       "1      0          PC 17599  71.2833   C85        C  \n",
       "2      0  STON/O2. 3101282   7.9250   NaN        S  \n",
       "3      0            113803  53.1000  C123        S  \n",
       "4      0            373450   8.0500   NaN        S  "
      ]
     },
     "execution_count": 3,
     "metadata": {},
     "output_type": "execute_result"
    }
   ],
   "source": [
    "train.head()"
   ]
  },
  {
   "cell_type": "code",
   "execution_count": 4,
   "metadata": {
    "collapsed": false
   },
   "outputs": [],
   "source": [
    "train_dummies = pd.get_dummies(train, columns=['Sex', 'Pclass', 'Embarked'])\n",
    "test_dummies = pd.get_dummies(test, columns=['Sex', 'Pclass', 'Embarked'])\n",
    "combined = [train_dummies, test_dummies]\n",
    "# Добавим признаки Размер семьи и путешествовал ли человек один\n",
    "for dataset in combined:   \n",
    "    dataset['FamilySize'] = dataset['SibSp'] + dataset['Parch'] + 1\n",
    "    dataset['IsAlone']  = 0\n",
    "    dataset.loc[dataset['FamilySize'] == 1, 'IsAlone'] = 1"
   ]
  },
  {
   "cell_type": "markdown",
   "metadata": {},
   "source": [
    "## Preprocess data"
   ]
  },
  {
   "cell_type": "code",
   "execution_count": 5,
   "metadata": {
    "collapsed": false
   },
   "outputs": [],
   "source": [
    "# Extract features\n",
    "X_train = train_dummies.drop(['PassengerId', 'Survived', 'Name', 'Ticket', 'Cabin'], axis=1)\n",
    "X_test = test_dummies.drop(['PassengerId', 'Name', 'Ticket', 'Cabin'], axis=1)"
   ]
  },
  {
   "cell_type": "code",
   "execution_count": 6,
   "metadata": {
    "collapsed": true
   },
   "outputs": [],
   "source": [
    "# Extract targets\n",
    "y_train = train_dummies['Survived']"
   ]
  },
  {
   "cell_type": "code",
   "execution_count": 7,
   "metadata": {
    "collapsed": false
   },
   "outputs": [],
   "source": [
    "# Fill NA values\n",
    "from sklearn.preprocessing import Imputer\n",
    "imp = Imputer()\n",
    "imp.fit(X_train)\n",
    "X_train_imp = imp.transform(X_train)\n",
    "X_test_imp = imp.transform(X_test)\n",
    "# Imputer(missing_values='NaN', strategy='mean', axis=0, verbose=0, copy=True)"
   ]
  },
  {
   "cell_type": "code",
   "execution_count": 8,
   "metadata": {
    "collapsed": true
   },
   "outputs": [],
   "source": [
    "# Scale features\n",
    "from sklearn.preprocessing import StandardScaler\n",
    "scaler = StandardScaler()\n",
    "scaler.fit(X_train_imp)\n",
    "X_train_scaled = scaler.transform(X_train_imp)\n",
    "X_test_scaled = scaler.transform(X_test_imp)\n",
    "\n",
    "# StandardScaler(copy=True, with_mean=True, with_std=True)"
   ]
  },
  {
   "cell_type": "markdown",
   "metadata": {},
   "source": [
    "## Train model and make predictions"
   ]
  },
  {
   "cell_type": "code",
   "execution_count": 9,
   "metadata": {
    "collapsed": false
   },
   "outputs": [],
   "source": [
    "# Fit logistic regression\n",
    "from sklearn.tree import DecisionTreeClassifier\n",
    "from sklearn.model_selection import GridSearchCV\n",
    "\n",
    "clf = DecisionTreeClassifier(class_weight='balanced', random_state=123)\n",
    "\n",
    "param_grid = [{'max_depth': range(1,12), 'min_samples_split': range(2,10), 'min_samples_leaf': range(1,6)}]\n",
    "\n",
    "grid = GridSearchCV(clf, param_grid, cv=5)"
   ]
  },
  {
   "cell_type": "code",
   "execution_count": 10,
   "metadata": {
    "collapsed": false
   },
   "outputs": [
    {
     "data": {
      "text/plain": [
       "GridSearchCV(cv=5, error_score='raise',\n",
       "       estimator=DecisionTreeClassifier(class_weight='balanced', criterion='gini',\n",
       "            max_depth=None, max_features=None, max_leaf_nodes=None,\n",
       "            min_impurity_split=1e-07, min_samples_leaf=1,\n",
       "            min_samples_split=2, min_weight_fraction_leaf=0.0,\n",
       "            presort=False, random_state=123, splitter='best'),\n",
       "       fit_params={}, iid=True, n_jobs=1,\n",
       "       param_grid=[{'max_depth': range(1, 12), 'min_samples_split': range(2, 10), 'min_samples_leaf': range(1, 6)}],\n",
       "       pre_dispatch='2*n_jobs', refit=True, return_train_score=True,\n",
       "       scoring=None, verbose=0)"
      ]
     },
     "execution_count": 10,
     "metadata": {},
     "output_type": "execute_result"
    }
   ],
   "source": [
    "grid.fit(X_train_scaled, y_train)"
   ]
  },
  {
   "cell_type": "code",
   "execution_count": 11,
   "metadata": {
    "collapsed": false
   },
   "outputs": [],
   "source": [
    "FI = list(zip( X_train.columns,grid.best_estimator_.feature_importances_))"
   ]
  },
  {
   "cell_type": "code",
   "execution_count": 12,
   "metadata": {
    "collapsed": false
   },
   "outputs": [],
   "source": [
    "FI.sort(key=lambda x: x[1], reverse=True)"
   ]
  },
  {
   "cell_type": "code",
   "execution_count": 13,
   "metadata": {
    "collapsed": false
   },
   "outputs": [],
   "source": [
    "x_labels = [val[0] for val in FI]\n",
    "y_labels = [val[1] for val in FI]"
   ]
  },
  {
   "cell_type": "code",
   "execution_count": 14,
   "metadata": {
    "collapsed": false
   },
   "outputs": [
    {
     "data": {
      "text/plain": [
       "<matplotlib.axes._subplots.AxesSubplot at 0x1130d23c8>"
      ]
     },
     "execution_count": 14,
     "metadata": {},
     "output_type": "execute_result"
    },
    {
     "data": {
      "image/png": "[encoded data removed]",
      "text/plain": [
       "<matplotlib.figure.Figure at 0x1130d26d8>"
      ]
     },
     "metadata": {},
     "output_type": "display_data"
    }
   ],
   "source": [
    "sns.barplot( y_labels, x_labels, orient='h')"
   ]
  },
  {
   "cell_type": "markdown",
   "metadata": {},
   "source": [
    "Сильнее всего определить \"выживаемость\" пассажира помогают его пол, возраст и размер платы за проезд."
   ]
  },
  {
   "cell_type": "code",
   "execution_count": 15,
   "metadata": {
    "collapsed": false
   },
   "outputs": [],
   "source": [
    "# TODO: make predictions\n",
    "\n",
    "predicted = grid.best_estimator_.predict(X_test_scaled)"
   ]
  },
  {
   "cell_type": "code",
   "execution_count": null,
   "metadata": {
    "collapsed": true
   },
   "outputs": [],
   "source": [
    "with open('submission.txt', 'w') as out:\n",
    "    out.write('PassengerId,Survived\\n')\n",
    "    for passenger, y in zip(test['PassengerId'], predicted):\n",
    "        out.write('%s,%s\\n' % (passenger, y))"
   ]
  },
  {
   "cell_type": "markdown",
   "metadata": {},
   "source": [
    "## Рисуем дерево"
   ]
  },
  {
   "cell_type": "code",
   "execution_count": 16,
   "metadata": {
    "collapsed": true
   },
   "outputs": [],
   "source": [
    "from sklearn.tree import export_graphviz\n",
    "\n",
    "def get_tree_dot_view(clf, feature_names=None, class_names=None):\n",
    "    print(export_graphviz(clf, out_file=None, filled=True, feature_names=feature_names, class_names=class_names))"
   ]
  },
  {
   "cell_type": "code",
   "execution_count": 17,
   "metadata": {
    "collapsed": false
   },
   "outputs": [
    {
     "name": "stdout",
     "output_type": "stream",
     "text": [
      "digraph Tree {\n",
      "node [shape=box, style=\"filled\", color=\"black\"] ;\n",
      "0 [label=\"Sex_male <= -0.3089\\ngini = 0.5\\nsamples = 891\\nvalue = [445.5, 445.5]\\nclass = Не выжил\", fillcolor=\"#e5813900\"] ;\n",
      "1 [label=\"Pclass_3 <= -0.1027\\ngini = 0.2926\\nsamples = 314\\nvalue = [65.7295, 303.5132]\\nclass = Выжил\", fillcolor=\"#399de5c8\"] ;\n",
      "0 -> 1 [labeldistance=2.5, labelangle=45, headlabel=\"True\"] ;\n",
      "2 [label=\"Fare <= -0.0674\\ngini = 0.065\\nsamples = 170\\nvalue = [7.3033, 209.7237]\\nclass = Выжил\", fillcolor=\"#399de5f6\"] ;\n",
      "1 -> 2 ;\n",
      "3 [label=\"Age <= 0.5618\\ngini = 0.1211\\nsamples = 70\\nvalue = [5.6803, 82.0658]\\nclass = Выжил\", fillcolor=\"#399de5ed\"] ;\n",
      "2 -> 3 ;\n",
      "4 [label=\"Age <= -0.1692\\ngini = 0.0736\\nsamples = 50\\nvalue = [2.4344, 61.2237]\\nclass = Выжил\", fillcolor=\"#399de5f5\"] ;\n",
      "3 -> 4 ;\n",
      "5 [label=\"Age <= -0.3231\\ngini = 0.139\\nsamples = 26\\nvalue = [2.4344, 29.9605]\\nclass = Выжил\", fillcolor=\"#399de5ea\"] ;\n",
      "4 -> 5 ;\n",
      "6 [label=\"Fare <= -0.3787\\ngini = 0.056\\nsamples = 22\\nvalue = [0.8115, 27.3553]\\nclass = Выжил\", fillcolor=\"#399de5f7\"] ;\n",
      "5 -> 6 ;\n",
      "7 [label=\"gini = 0.197\\nsamples = 6\\nvalue = [0.8115, 6.5132]\\nclass = Выжил\", fillcolor=\"#399de5df\"] ;\n",
      "6 -> 7 ;\n",
      "8 [label=\"gini = 0.0\\nsamples = 16\\nvalue = [0.0, 20.8421]\\nclass = Выжил\", fillcolor=\"#399de5ff\"] ;\n",
      "6 -> 8 ;\n",
      "9 [label=\"gini = 0.473\\nsamples = 4\\nvalue = [1.623, 2.6053]\\nclass = Выжил\", fillcolor=\"#399de560\"] ;\n",
      "5 -> 9 ;\n",
      "10 [label=\"gini = 0.0\\nsamples = 24\\nvalue = [0.0, 31.2632]\\nclass = Выжил\", fillcolor=\"#399de5ff\"] ;\n",
      "4 -> 10 ;\n",
      "11 [label=\"Parch <= 0.147\\ngini = 0.2332\\nsamples = 20\\nvalue = [3.2459, 20.8421]\\nclass = Выжил\", fillcolor=\"#399de5d7\"] ;\n",
      "3 -> 11 ;\n",
      "12 [label=\"Fare <= -0.1256\\ngini = 0.2848\\nsamples = 16\\nvalue = [3.2459, 15.6316]\\nclass = Выжил\", fillcolor=\"#399de5ca\"] ;\n",
      "11 -> 12 ;\n",
      "13 [label=\"Fare <= -0.3816\\ngini = 0.2136\\nsamples = 11\\nvalue = [1.623, 11.7237]\\nclass = Выжил\", fillcolor=\"#399de5dc\"] ;\n",
      "12 -> 13 ;\n",
      "14 [label=\"gini = 0.3622\\nsamples = 6\\nvalue = [1.623, 5.2105]\\nclass = Выжил\", fillcolor=\"#399de5b0\"] ;\n",
      "13 -> 14 ;\n",
      "15 [label=\"gini = 0.0\\nsamples = 5\\nvalue = [0.0, 6.5132]\\nclass = Выжил\", fillcolor=\"#399de5ff\"] ;\n",
      "13 -> 15 ;\n",
      "16 [label=\"gini = 0.4147\\nsamples = 5\\nvalue = [1.623, 3.9079]\\nclass = Выжил\", fillcolor=\"#399de595\"] ;\n",
      "12 -> 16 ;\n",
      "17 [label=\"gini = 0.0\\nsamples = 4\\nvalue = [0.0, 5.2105]\\nclass = Выжил\", fillcolor=\"#399de5ff\"] ;\n",
      "11 -> 17 ;\n",
      "18 [label=\"FamilySize <= 0.9894\\ngini = 0.0248\\nsamples = 100\\nvalue = [1.623, 127.6579]\\nclass = Выжил\", fillcolor=\"#399de5fc\"] ;\n",
      "2 -> 18 ;\n",
      "19 [label=\"gini = 0.0\\nsamples = 87\\nvalue = [0.0, 113.3289]\\nclass = Выжил\", fillcolor=\"#399de5ff\"] ;\n",
      "18 -> 19 ;\n",
      "20 [label=\"Fare <= 2.0854\\ngini = 0.1828\\nsamples = 13\\nvalue = [1.623, 14.3289]\\nclass = Выжил\", fillcolor=\"#399de5e2\"] ;\n",
      "18 -> 20 ;\n",
      "21 [label=\"gini = 0.0\\nsamples = 7\\nvalue = [0.0, 9.1184]\\nclass = Выжил\", fillcolor=\"#399de5ff\"] ;\n",
      "20 -> 21 ;\n",
      "22 [label=\"gini = 0.3622\\nsamples = 6\\nvalue = [1.623, 5.2105]\\nclass = Выжил\", fillcolor=\"#399de5b0\"] ;\n",
      "20 -> 22 ;\n",
      "23 [label=\"FamilySize <= 1.6095\\ngini = 0.473\\nsamples = 144\\nvalue = [58.4262, 93.7895]\\nclass = Выжил\", fillcolor=\"#399de560\"] ;\n",
      "1 -> 23 ;\n",
      "24 [label=\"Age <= 0.5234\\ngini = 0.4219\\nsamples = 117\\nvalue = [38.9508, 89.8816]\\nclass = Выжил\", fillcolor=\"#399de590\"] ;\n",
      "23 -> 24 ;\n",
      "25 [label=\"Embarked_S <= -0.4977\\ngini = 0.4013\\nsamples = 110\\nvalue = [34.082, 88.5789]\\nclass = Выжил\", fillcolor=\"#399de59d\"] ;\n",
      "24 -> 25 ;\n",
      "26 [label=\"Fare <= -0.3339\\ngini = 0.3119\\nsamples = 54\\nvalue = [12.1721, 50.8026]\\nclass = Выжил\", fillcolor=\"#399de5c2\"] ;\n",
      "25 -> 26 ;\n",
      "27 [label=\"Fare <= -0.3678\\ngini = 0.3622\\nsamples = 45\\nvalue = [12.1721, 39.0789]\\nclass = Выжил\", fillcolor=\"#399de5b0\"] ;\n",
      "26 -> 27 ;\n",
      "28 [label=\"Age <= -0.9773\\ngini = 0.2529\\nsamples = 32\\nvalue = [5.6803, 32.5658]\\nclass = Выжил\", fillcolor=\"#399de5d3\"] ;\n",
      "27 -> 28 ;\n",
      "29 [label=\"gini = 0.0\\nsamples = 7\\nvalue = [0.0, 9.1184]\\nclass = Выжил\", fillcolor=\"#399de5ff\"] ;\n",
      "28 -> 29 ;\n",
      "30 [label=\"Fare <= -0.4938\\ngini = 0.314\\nsamples = 25\\nvalue = [5.6803, 23.4474]\\nclass = Выжил\", fillcolor=\"#399de5c1\"] ;\n",
      "28 -> 30 ;\n",
      "31 [label=\"gini = 0.473\\nsamples = 4\\nvalue = [1.623, 2.6053]\\nclass = Выжил\", fillcolor=\"#399de560\"] ;\n",
      "30 -> 31 ;\n",
      "32 [label=\"gini = 0.2728\\nsamples = 21\\nvalue = [4.0574, 20.8421]\\nclass = Выжил\", fillcolor=\"#399de5cd\"] ;\n",
      "30 -> 32 ;\n",
      "33 [label=\"Embarked_Q <= 1.4719\\ngini = 0.5\\nsamples = 13\\nvalue = [6.4918, 6.5132]\\nclass = Выжил\", fillcolor=\"#399de501\"] ;\n",
      "27 -> 33 ;\n",
      "34 [label=\"Age <= -0.9388\\ngini = 0.4311\\nsamples = 9\\nvalue = [5.6803, 2.6053]\\nclass = Не выжил\", fillcolor=\"#e581398a\"] ;\n",
      "33 -> 34 ;\n",
      "35 [label=\"gini = 0.4541\\nsamples = 4\\nvalue = [2.4344, 1.3026]\\nclass = Не выжил\", fillcolor=\"#e5813977\"] ;\n",
      "34 -> 35 ;\n",
      "36 [label=\"gini = 0.4087\\nsamples = 5\\nvalue = [3.2459, 1.3026]\\nclass = Не выжил\", fillcolor=\"#e5813999\"] ;\n",
      "34 -> 36 ;\n",
      "37 [label=\"gini = 0.2848\\nsamples = 4\\nvalue = [0.8115, 3.9079]\\nclass = Выжил\", fillcolor=\"#399de5ca\"] ;\n",
      "33 -> 37 ;\n",
      "38 [label=\"gini = 0.0\\nsamples = 9\\nvalue = [0.0, 11.7237]\\nclass = Выжил\", fillcolor=\"#399de5ff\"] ;\n",
      "26 -> 38 ;\n",
      "39 [label=\"Fare <= -0.4305\\ngini = 0.4647\\nsamples = 56\\nvalue = [21.9098, 37.7763]\\nclass = Выжил\", fillcolor=\"#399de56b\"] ;\n",
      "25 -> 39 ;\n",
      "40 [label=\"Fare <= -0.4921\\ngini = 0.4989\\nsamples = 32\\nvalue = [15.418, 16.9342]\\nclass = Выжил\", fillcolor=\"#399de517\"] ;\n",
      "39 -> 40 ;\n",
      "41 [label=\"gini = 0.197\\nsamples = 6\\nvalue = [0.8115, 6.5132]\\nclass = Выжил\", fillcolor=\"#399de5df\"] ;\n",
      "40 -> 41 ;\n",
      "42 [label=\"Age <= -0.1692\\ngini = 0.486\\nsamples = 26\\nvalue = [14.6066, 10.4211]\\nclass = Не выжил\", fillcolor=\"#e5813949\"] ;\n",
      "40 -> 42 ;\n",
      "43 [label=\"Fare <= -0.4554\\ngini = 0.4995\\nsamples = 19\\nvalue = [9.7377, 9.1184]\\nclass = Не выжил\", fillcolor=\"#e5813910\"] ;\n",
      "42 -> 43 ;\n",
      "44 [label=\"gini = 0.4875\\nsamples = 13\\nvalue = [5.6803, 7.8158]\\nclass = Выжил\", fillcolor=\"#399de546\"] ;\n",
      "43 -> 44 ;\n",
      "45 [label=\"gini = 0.3679\\nsamples = 6\\nvalue = [4.0574, 1.3026]\\nclass = Не выжил\", fillcolor=\"#e58139ad\"] ;\n",
      "43 -> 45 ;\n",
      "46 [label=\"gini = 0.333\\nsamples = 7\\nvalue = [4.8689, 1.3026]\\nclass = Не выжил\", fillcolor=\"#e58139bb\"] ;\n",
      "42 -> 46 ;\n",
      "47 [label=\"Fare <= -0.2941\\ngini = 0.3622\\nsamples = 24\\nvalue = [6.4918, 20.8421]\\nclass = Выжил\", fillcolor=\"#399de5b0\"] ;\n",
      "39 -> 47 ;\n",
      "48 [label=\"Fare <= -0.3779\\ngini = 0.1596\\nsamples = 15\\nvalue = [1.623, 16.9342]\\nclass = Выжил\", fillcolor=\"#399de5e7\"] ;\n",
      "47 -> 48 ;\n",
      "49 [label=\"gini = 0.0\\nsamples = 6\\nvalue = [0.0, 7.8158]\\nclass = Выжил\", fillcolor=\"#399de5ff\"] ;\n",
      "48 -> 49 ;\n",
      "50 [label=\"Age <= -0.0654\\ngini = 0.2565\\nsamples = 9\\nvalue = [1.623, 9.1184]\\nclass = Выжил\", fillcolor=\"#399de5d2\"] ;\n",
      "48 -> 50 ;\n",
      "51 [label=\"gini = 0.4147\\nsamples = 5\\nvalue = [1.623, 3.9079]\\nclass = Выжил\", fillcolor=\"#399de595\"] ;\n",
      "50 -> 51 ;\n",
      "52 [label=\"gini = 0.0\\nsamples = 4\\nvalue = [0.0, 5.2105]\\nclass = Выжил\", fillcolor=\"#399de5ff\"] ;\n",
      "50 -> 52 ;\n",
      "53 [label=\"Age <= 0.0116\\ngini = 0.494\\nsamples = 9\\nvalue = [4.8689, 3.9079]\\nclass = Не выжил\", fillcolor=\"#e5813932\"] ;\n",
      "47 -> 53 ;\n",
      "54 [label=\"gini = 0.4087\\nsamples = 5\\nvalue = [3.2459, 1.3026]\\nclass = Не выжил\", fillcolor=\"#e5813999\"] ;\n",
      "53 -> 54 ;\n",
      "55 [label=\"gini = 0.473\\nsamples = 4\\nvalue = [1.623, 2.6053]\\nclass = Выжил\", fillcolor=\"#399de560\"] ;\n",
      "53 -> 55 ;\n",
      "56 [label=\"gini = 0.333\\nsamples = 7\\nvalue = [4.8689, 1.3026]\\nclass = Не выжил\", fillcolor=\"#e58139bb\"] ;\n",
      "24 -> 56 ;\n",
      "57 [label=\"FamilySize <= 2.8498\\ngini = 0.2784\\nsamples = 27\\nvalue = [19.4754, 3.9079]\\nclass = Не выжил\", fillcolor=\"#e58139cc\"] ;\n",
      "23 -> 57 ;\n",
      "58 [label=\"gini = 0.0\\nsamples = 14\\nvalue = [11.3607, 0.0]\\nclass = Не выжил\", fillcolor=\"#e58139ff\"] ;\n",
      "57 -> 58 ;\n",
      "59 [label=\"FamilySize <= 3.4699\\ngini = 0.4388\\nsamples = 13\\nvalue = [8.1148, 3.9079]\\nclass = Не выжил\", fillcolor=\"#e5813984\"] ;\n",
      "57 -> 59 ;\n",
      "60 [label=\"gini = 0.4998\\nsamples = 8\\nvalue = [4.0574, 3.9079]\\nclass = Не выжил\", fillcolor=\"#e5813909\"] ;\n",
      "59 -> 60 ;\n",
      "61 [label=\"gini = 0.0\\nsamples = 5\\nvalue = [4.0574, 0.0]\\nclass = Не выжил\", fillcolor=\"#e58139ff\"] ;\n",
      "59 -> 61 ;\n",
      "62 [label=\"Fare <= -0.1195\\ngini = 0.3962\\nsamples = 577\\nvalue = [379.7705, 141.9868]\\nclass = Не выжил\", fillcolor=\"#e58139a0\"] ;\n",
      "0 -> 62 [labeldistance=2.5, labelangle=-45, headlabel=\"False\"] ;\n",
      "63 [label=\"Age <= -1.2466\\ngini = 0.3123\\nsamples = 415\\nvalue = [292.9426, 70.3421]\\nclass = Не выжил\", fillcolor=\"#e58139c2\"] ;\n",
      "62 -> 63 ;\n",
      "64 [label=\"Fare <= -0.2705\\ngini = 0.1596\\nsamples = 15\\nvalue = [1.623, 16.9342]\\nclass = Выжил\", fillcolor=\"#399de5e7\"] ;\n",
      "63 -> 64 ;\n",
      "65 [label=\"gini = 0.0\\nsamples = 9\\nvalue = [0.0, 11.7237]\\nclass = Выжил\", fillcolor=\"#399de5ff\"] ;\n",
      "64 -> 65 ;\n",
      "66 [label=\"gini = 0.3622\\nsamples = 6\\nvalue = [1.623, 5.2105]\\nclass = Выжил\", fillcolor=\"#399de5b0\"] ;\n",
      "64 -> 66 ;\n",
      "67 [label=\"Embarked_C <= 0.7962\\ngini = 0.2619\\nsamples = 400\\nvalue = [291.3197, 53.4079]\\nclass = Не выжил\", fillcolor=\"#e58139d0\"] ;\n",
      "63 -> 67 ;\n",
      "68 [label=\"Fare <= -0.3816\\ngini = 0.2368\\nsamples = 355\\nvalue = [262.1066, 41.6842]\\nclass = Не выжил\", fillcolor=\"#e58139d6\"] ;\n",
      "67 -> 68 ;\n",
      "69 [label=\"Fare <= -0.4891\\ngini = 0.263\\nsamples = 291\\nvalue = [211.7951, 39.0789]\\nclass = Не выжил\", fillcolor=\"#e58139d0\"] ;\n",
      "68 -> 69 ;\n",
      "70 [label=\"Fare <= -0.4901\\ngini = 0.1846\\nsamples = 150\\nvalue = [113.6066, 13.0263]\\nclass = Не выжил\", fillcolor=\"#e58139e2\"] ;\n",
      "69 -> 70 ;\n",
      "71 [label=\"Age <= 0.2155\\ngini = 0.2284\\nsamples = 116\\nvalue = [86.0164, 13.0263]\\nclass = Не выжил\", fillcolor=\"#e58139d8\"] ;\n",
      "70 -> 71 ;\n",
      "72 [label=\"Age <= -0.477\\ngini = 0.2807\\nsamples = 89\\nvalue = [64.1066, 13.0263]\\nclass = Не выжил\", fillcolor=\"#e58139cb\"] ;\n",
      "71 -> 72 ;\n",
      "73 [label=\"gini = 0.1026\\nsamples = 29\\nvalue = [22.7213, 1.3026]\\nclass = Не выжил\", fillcolor=\"#e58139f0\"] ;\n",
      "72 -> 73 ;\n",
      "74 [label=\"gini = 0.344\\nsamples = 60\\nvalue = [41.3852, 11.7237]\\nclass = Не выжил\", fillcolor=\"#e58139b7\"] ;\n",
      "72 -> 74 ;\n",
      "75 [label=\"gini = 0.0\\nsamples = 27\\nvalue = [21.9098, 0.0]\\nclass = Не выжил\", fillcolor=\"#e58139ff\"] ;\n",
      "71 -> 75 ;\n",
      "76 [label=\"gini = 0.0\\nsamples = 34\\nvalue = [27.5902, 0.0]\\nclass = Не выжил\", fillcolor=\"#e58139ff\"] ;\n",
      "70 -> 76 ;\n",
      "77 [label=\"Fare <= -0.4876\\ngini = 0.3314\\nsamples = 141\\nvalue = [98.1885, 26.0526]\\nclass = Не выжил\", fillcolor=\"#e58139bb\"] ;\n",
      "69 -> 77 ;\n",
      "78 [label=\"Age <= -0.0153\\ngini = 0.5\\nsamples = 13\\nvalue = [6.4918, 6.5132]\\nclass = Выжил\", fillcolor=\"#399de501\"] ;\n",
      "77 -> 78 ;\n",
      "79 [label=\"gini = 0.4087\\nsamples = 5\\nvalue = [3.2459, 1.3026]\\nclass = Не выжил\", fillcolor=\"#e5813999\"] ;\n",
      "78 -> 79 ;\n",
      "80 [label=\"gini = 0.473\\nsamples = 8\\nvalue = [3.2459, 5.2105]\\nclass = Выжил\", fillcolor=\"#399de560\"] ;\n",
      "78 -> 80 ;\n",
      "81 [label=\"Age <= -0.7849\\ngini = 0.2896\\nsamples = 128\\nvalue = [91.6967, 19.5395]\\nclass = Не выжил\", fillcolor=\"#e58139c9\"] ;\n",
      "77 -> 81 ;\n",
      "82 [label=\"Fare <= -0.4852\\ngini = 0.4087\\nsamples = 20\\nvalue = [12.9836, 5.2105]\\nclass = Не выжил\", fillcolor=\"#e5813999\"] ;\n",
      "81 -> 82 ;\n",
      "83 [label=\"gini = 0.4147\\nsamples = 5\\nvalue = [1.623, 3.9079]\\nclass = Выжил\", fillcolor=\"#399de595\"] ;\n",
      "82 -> 83 ;\n",
      "84 [label=\"gini = 0.1846\\nsamples = 15\\nvalue = [11.3607, 1.3026]\\nclass = Не выжил\", fillcolor=\"#e58139e2\"] ;\n",
      "82 -> 84 ;\n",
      "85 [label=\"Age <= -0.2462\\ngini = 0.2606\\nsamples = 108\\nvalue = [78.7131, 14.3289]\\nclass = Не выжил\", fillcolor=\"#e58139d1\"] ;\n",
      "81 -> 85 ;\n",
      "86 [label=\"gini = 0.0\\nsamples = 31\\nvalue = [25.1557, 0.0]\\nclass = Не выжил\", fillcolor=\"#e58139ff\"] ;\n",
      "85 -> 86 ;\n",
      "87 [label=\"gini = 0.333\\nsamples = 77\\nvalue = [53.5574, 14.3289]\\nclass = Не выжил\", fillcolor=\"#e58139bb\"] ;\n",
      "85 -> 87 ;\n",
      "88 [label=\"SibSp <= 0.8865\\ngini = 0.0936\\nsamples = 64\\nvalue = [50.3115, 2.6053]\\nclass = Не выжил\", fillcolor=\"#e58139f2\"] ;\n",
      "68 -> 88 ;\n",
      "89 [label=\"Fare <= -0.1257\\ngini = 0.0524\\nsamples = 59\\nvalue = [47.0656, 1.3026]\\nclass = Не выжил\", fillcolor=\"#e58139f8\"] ;\n",
      "88 -> 89 ;\n",
      "90 [label=\"gini = -0.0\\nsamples = 42\\nvalue = [34.082, 0.0]\\nclass = Не выжил\", fillcolor=\"#e58139ff\"] ;\n",
      "89 -> 90 ;\n",
      "91 [label=\"Age <= 0.254\\ngini = 0.1657\\nsamples = 17\\nvalue = [12.9836, 1.3026]\\nclass = Не выжил\", fillcolor=\"#e58139e5\"] ;\n",
      "89 -> 91 ;\n",
      "92 [label=\"gini = 0.3679\\nsamples = 6\\nvalue = [4.0574, 1.3026]\\nclass = Не выжил\", fillcolor=\"#e58139ad\"] ;\n",
      "91 -> 92 ;\n",
      "93 [label=\"gini = 0.0\\nsamples = 11\\nvalue = [8.9262, 0.0]\\nclass = Не выжил\", fillcolor=\"#e58139ff\"] ;\n",
      "91 -> 93 ;\n",
      "94 [label=\"gini = 0.4087\\nsamples = 5\\nvalue = [3.2459, 1.3026]\\nclass = Не выжил\", fillcolor=\"#e5813999\"] ;\n",
      "88 -> 94 ;\n",
      "95 [label=\"Fare <= -0.3434\\ngini = 0.4087\\nsamples = 45\\nvalue = [29.2131, 11.7237]\\nclass = Не выжил\", fillcolor=\"#e5813999\"] ;\n",
      "67 -> 95 ;\n",
      "96 [label=\"Age <= -0.554\\ngini = 0.309\\nsamples = 39\\nvalue = [27.5902, 6.5132]\\nclass = Не выжил\", fillcolor=\"#e58139c3\"] ;\n",
      "95 -> 96 ;\n",
      "97 [label=\"gini = 0.494\\nsamples = 6\\nvalue = [3.2459, 2.6053]\\nclass = Не выжил\", fillcolor=\"#e5813932\"] ;\n",
      "96 -> 97 ;\n",
      "98 [label=\"Fare <= -0.5029\\ngini = 0.2384\\nsamples = 33\\nvalue = [24.3443, 3.9079]\\nclass = Не выжил\", fillcolor=\"#e58139d6\"] ;\n",
      "96 -> 98 ;\n",
      "99 [label=\"gini = 0.0\\nsamples = 10\\nvalue = [8.1148, 0.0]\\nclass = Не выжил\", fillcolor=\"#e58139ff\"] ;\n",
      "98 -> 99 ;\n",
      "100 [label=\"Age <= -0.073\\ngini = 0.3128\\nsamples = 23\\nvalue = [16.2295, 3.9079]\\nclass = Не выжил\", fillcolor=\"#e58139c2\"] ;\n",
      "98 -> 100 ;\n",
      "101 [label=\"gini = 0.0\\nsamples = 5\\nvalue = [4.0574, 0.0]\\nclass = Не выжил\", fillcolor=\"#e58139ff\"] ;\n",
      "100 -> 101 ;\n",
      "102 [label=\"Age <= 0.0116\\ngini = 0.3679\\nsamples = 18\\nvalue = [12.1721, 3.9079]\\nclass = Не выжил\", fillcolor=\"#e58139ad\"] ;\n",
      "100 -> 102 ;\n",
      "103 [label=\"gini = 0.4388\\nsamples = 13\\nvalue = [8.1148, 3.9079]\\nclass = Не выжил\", fillcolor=\"#e5813984\"] ;\n",
      "102 -> 103 ;\n",
      "104 [label=\"gini = 0.0\\nsamples = 5\\nvalue = [4.0574, 0.0]\\nclass = Не выжил\", fillcolor=\"#e58139ff\"] ;\n",
      "102 -> 104 ;\n",
      "105 [label=\"gini = 0.3622\\nsamples = 6\\nvalue = [1.623, 5.2105]\\nclass = Выжил\", fillcolor=\"#399de5b0\"] ;\n",
      "95 -> 105 ;\n",
      "106 [label=\"FamilySize <= 1.6095\\ngini = 0.4954\\nsamples = 162\\nvalue = [86.8279, 71.6447]\\nclass = Не выжил\", fillcolor=\"#e581392d\"] ;\n",
      "62 -> 106 ;\n",
      "107 [label=\"Age <= -0.9388\\ngini = 0.4994\\nsamples = 135\\nvalue = [65.7295, 70.3421]\\nclass = Выжил\", fillcolor=\"#399de511\"] ;\n",
      "106 -> 107 ;\n",
      "108 [label=\"gini = 0.0\\nsamples = 8\\nvalue = [0.0, 10.4211]\\nclass = Выжил\", fillcolor=\"#399de5ff\"] ;\n",
      "107 -> 108 ;\n",
      "109 [label=\"Pclass_2 <= 0.725\\ngini = 0.4989\\nsamples = 127\\nvalue = [65.7295, 59.9211]\\nclass = Не выжил\", fillcolor=\"#e5813917\"] ;\n",
      "107 -> 109 ;\n",
      "110 [label=\"Age <= 1.7931\\ngini = 0.4988\\nsamples = 113\\nvalue = [54.3689, 59.9211]\\nclass = Выжил\", fillcolor=\"#399de518\"] ;\n",
      "109 -> 110 ;\n",
      "111 [label=\"Fare <= -0.1021\\ngini = 0.4872\\nsamples = 93\\nvalue = [40.5738, 56.0132]\\nclass = Выжил\", fillcolor=\"#399de546\"] ;\n",
      "110 -> 111 ;\n",
      "112 [label=\"Fare <= -0.1155\\ngini = 0.1828\\nsamples = 13\\nvalue = [1.623, 14.3289]\\nclass = Выжил\", fillcolor=\"#399de5e2\"] ;\n",
      "111 -> 112 ;\n",
      "113 [label=\"gini = 0.0\\nsamples = 4\\nvalue = [0.0, 5.2105]\\nclass = Выжил\", fillcolor=\"#399de5ff\"] ;\n",
      "112 -> 113 ;\n",
      "114 [label=\"Age <= 0.3694\\ngini = 0.2565\\nsamples = 9\\nvalue = [1.623, 9.1184]\\nclass = Выжил\", fillcolor=\"#399de5d2\"] ;\n",
      "112 -> 114 ;\n",
      "115 [label=\"gini = 0.2848\\nsamples = 4\\nvalue = [0.8115, 3.9079]\\nclass = Выжил\", fillcolor=\"#399de5ca\"] ;\n",
      "114 -> 115 ;\n",
      "116 [label=\"gini = 0.2332\\nsamples = 5\\nvalue = [0.8115, 5.2105]\\nclass = Выжил\", fillcolor=\"#399de5d7\"] ;\n",
      "114 -> 116 ;\n",
      "117 [label=\"Fare <= -0.0625\\ngini = 0.4994\\nsamples = 80\\nvalue = [38.9508, 41.6842]\\nclass = Выжил\", fillcolor=\"#399de511\"] ;\n",
      "111 -> 117 ;\n",
      "118 [label=\"gini = 0.0\\nsamples = 5\\nvalue = [4.0574, 0.0]\\nclass = Не выжил\", fillcolor=\"#e58139ff\"] ;\n",
      "117 -> 118 ;\n",
      "119 [label=\"Fare <= -0.0323\\ngini = 0.4961\\nsamples = 75\\nvalue = [34.8934, 41.6842]\\nclass = Выжил\", fillcolor=\"#399de52a\"] ;\n",
      "117 -> 119 ;\n",
      "120 [label=\"gini = 0.2565\\nsamples = 9\\nvalue = [1.623, 9.1184]\\nclass = Выжил\", fillcolor=\"#399de5d2\"] ;\n",
      "119 -> 120 ;\n",
      "121 [label=\"gini = 0.4999\\nsamples = 66\\nvalue = [33.2705, 32.5658]\\nclass = Не выжил\", fillcolor=\"#e5813905\"] ;\n",
      "119 -> 121 ;\n",
      "122 [label=\"Fare <= -0.0474\\ngini = 0.344\\nsamples = 20\\nvalue = [13.7951, 3.9079]\\nclass = Не выжил\", fillcolor=\"#e58139b7\"] ;\n",
      "110 -> 122 ;\n",
      "123 [label=\"gini = 0.0\\nsamples = 6\\nvalue = [4.8689, 0.0]\\nclass = Не выжил\", fillcolor=\"#e58139ff\"] ;\n",
      "122 -> 123 ;\n",
      "124 [label=\"Embarked_C <= 0.7962\\ngini = 0.4236\\nsamples = 14\\nvalue = [8.9262, 3.9079]\\nclass = Не выжил\", fillcolor=\"#e581398f\"] ;\n",
      "122 -> 124 ;\n",
      "125 [label=\"gini = 0.333\\nsamples = 7\\nvalue = [4.8689, 1.3026]\\nclass = Не выжил\", fillcolor=\"#e58139bb\"] ;\n",
      "124 -> 125 ;\n",
      "126 [label=\"gini = 0.4762\\nsamples = 7\\nvalue = [4.0574, 2.6053]\\nclass = Не выжил\", fillcolor=\"#e581395b\"] ;\n",
      "124 -> 126 ;\n",
      "127 [label=\"gini = 0.0\\nsamples = 14\\nvalue = [11.3607, 0.0]\\nclass = Не выжил\", fillcolor=\"#e58139ff\"] ;\n",
      "109 -> 127 ;\n",
      "128 [label=\"Age <= -2.0161\\ngini = 0.1095\\nsamples = 27\\nvalue = [21.0984, 1.3026]\\nclass = Не выжил\", fillcolor=\"#e58139ef\"] ;\n",
      "106 -> 128 ;\n",
      "129 [label=\"gini = 0.4087\\nsamples = 5\\nvalue = [3.2459, 1.3026]\\nclass = Не выжил\", fillcolor=\"#e5813999\"] ;\n",
      "128 -> 129 ;\n",
      "130 [label=\"gini = 0.0\\nsamples = 22\\nvalue = [17.8525, 0.0]\\nclass = Не выжил\", fillcolor=\"#e58139ff\"] ;\n",
      "128 -> 130 ;\n",
      "}\n"
     ]
    }
   ],
   "source": [
    "get_tree_dot_view(grid.best_estimator_, X_train.columns, ['Не выжил','Выжил'])"
   ]
  }
 ],
 "metadata": {
  "kernelspec": {
   "display_name": "Python 3",
   "language": "python",
   "name": "python3"
  },
  "language_info": {
   "codemirror_mode": {
    "name": "ipython",
    "version": 3
   },
   "file_extension": ".py",
   "mimetype": "text/x-python",
   "name": "python",
   "nbconvert_exporter": "python",
   "pygments_lexer": "ipython3",
   "version": "3.6.0"
  }
 },
 "nbformat": 4,
 "nbformat_minor": 2
}
